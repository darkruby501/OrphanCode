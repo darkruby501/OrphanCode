{
 "cells": [
  {
   "cell_type": "markdown",
   "metadata": {},
   "source": [
    "# Analysis of Effective Altruism Facebook Group Posts\n",
    "## 2012 - 2015\n",
    "\n",
    "Data taken from https://docs.google.com/spreadsheets/d/1zRc2AvZ_nWEyXdOPz9XzjuXszMa92C9WUSVOul-NJyo/edit#gid=1562892504\n",
    "\n",
    "\n",
    "\n",
    "### Growth\n",
    "\n",
    "NB: \"Posts\" in the spreadsheet includes both \"status\" posts and \"link\" posts, I refer to them accordingly as \"status-posts\" and \"link-posts.\" Status-posts are where someone writes some text and shares vs sharing a link to the group. There were also an insignificant number of \"other\" types including photo, video, and music.\n",
    "\n",
    "* The total number of status-posts has remained constant for the last three years (Figure 1). \n",
    "* The number of link-containing posts has increased year-on-year by ~25% (Figure 1).\n",
    "* Because of increase in link-posts, the total number of posts (of all types) is increasing annually.\n",
    "* The group was started in late 2012 but had 23 posts for the year, compared with 1300+ for subsequent years (Table 1).\n",
    "\n",
    "\n",
    "### Comments\n",
    "* The absolute number of comments has been decreasing annually, despite increased number of overall posts (Figure 2). \n",
    "    - The number of comments per status-post has dropped from an average of 11 in 2013, to 8 in 2015\n",
    " \n",
    " \n",
    "### Other Comparison of Status- and Link-Posts\n",
    "* Status-posts receive an average of 10 comments per post compared to 5 comments per post for link-posts.\n",
    "* Link-posts receive slightly more likes on average than status-posts, 9.3 vs. 7.2.\n",
    "* Link-posts receive more than 30 times the number of shares as status-posts on average. This explains the large increase in number of shares in 2015.\n",
    "\n",
    "### Contributors\n",
    "* The number of unique contributors has increased linearly since 2013.\n",
    "* Half or more of the top contributors list has stayed the same since 2013.\n",
    "* See below for Leaderboards for Top Contributors for 2013,2014,2015 and All Time.\n",
    "\n",
    "\n",
    "### Monthly Variation\n",
    "* Compared with the preceding 12-months, there was a dip in activity from mid-2014 to early 2015. I don't why. Things started going back up sometime between February and June. I didn't get a chance to look into the changes on that finer time-scale. Does anybody know what's changed with the group from last year to this year?\n",
    "\n",
    "\n",
    "## Conclusion\n",
    "Overall group activity has been increasing since 2012, however the composition and nature of the activity has changed. While the number of status-posts has stayed constant since 2013, the proportion of total posts has dropped. In 2013, the number of statuses posted and links posted were roughly equal, whereas in 2015, 50% more links were posted than statuses. Additionally, the number of comments per status-post has been dropping since 2013.\n",
    "\n",
    "There has been an annual increase in \n",
    "\n",
    "Questions I didn't attempt to answer.\n",
    "Are the additional posters providing value? Do their posts get as many likes/shares/comments, or are they opportunistically posting on a large group?"
   ]
  },
  {
   "cell_type": "code",
   "execution_count": 242,
   "metadata": {
    "collapsed": false
   },
   "outputs": [],
   "source": [
    "# Imports\n",
    "import pandas as pd\n",
    "from pandas import Series,DataFrame\n",
    "import numpy as np\n",
    "import matplotlib.pyplot as plt\n",
    "import seaborn as sns\n",
    "import datetime\n",
    "%matplotlib inline"
   ]
  },
  {
   "cell_type": "code",
   "execution_count": 82,
   "metadata": {
    "collapsed": false
   },
   "outputs": [],
   "source": [
    "posts = pd.read_csv('Effective Altruism facebook group posts data - posts (1).csv')\n",
    "posts['createdTime'] = pd.to_datetime(posts['createdTime'])\n",
    "posts['year'] = posts['createdTime'].apply(lambda x: x.year)\n",
    "posts['week'] = posts['createdTime'].apply(lambda x: x.week)\n",
    "posts['month'] = posts['createdTime'].apply(lambda x: x.month)\n",
    "posts['quarter'] = posts['createdTime'].apply(lambda x: x.quarter)"
   ]
  },
  {
   "cell_type": "markdown",
   "metadata": {},
   "source": [
    "### Figure 1: Number of Posts by Type vs. Year"
   ]
  },
  {
   "cell_type": "code",
   "execution_count": 258,
   "metadata": {
    "collapsed": false,
    "scrolled": true
   },
   "outputs": [
    {
     "data": {
      "text/plain": [
       "<matplotlib.text.Text at 0x1c37b5c0>"
      ]
     },
     "execution_count": 258,
     "metadata": {},
     "output_type": "execute_result"
    },
    {
     "data": {
      "image/png": "[encoded data removed]",
      "text/plain": [
       "<matplotlib.figure.Figure at 0x1c2d7fd0>"
      ]
     },
     "metadata": {},
     "output_type": "display_data"
    }
   ],
   "source": [
    "postsTypes = posts.groupby(['year','type']).count()['id'].unstack()\n",
    "postsTypes.fillna(0,inplace=True)\n",
    "\n",
    "otherCols = set(list(postsTypes.columns))\n",
    "mainCols = set(['link','status'])\n",
    "otherCols = otherCols-mainCols\n",
    "otherCols = list(otherCols)\n",
    "\n",
    "postsTypes['other'] = postsTypes[otherCols].sum(axis=1)\n",
    "postsTypes.drop(otherCols,axis=1,inplace=True)\n",
    "\n",
    "fig = postsTypes.plot(kind='bar',figsize=(8,4))\n",
    "fig.set_title(\"Post Counts by Type vs Year\")"
   ]
  },
  {
   "cell_type": "markdown",
   "metadata": {},
   "source": [
    "### Table 1: Number of Posts by Year\n",
    "* The group was started in late 2012 but had 23 posts for the year, compared with 1300+ for subsequent years (Table 1)."
   ]
  },
  {
   "cell_type": "code",
   "execution_count": 243,
   "metadata": {
    "collapsed": false
   },
   "outputs": [
    {
     "data": {
      "text/html": [
       "<div>\n",
       "<table border=\"1\" class=\"dataframe\">\n",
       "  <thead>\n",
       "    <tr style=\"text-align: right;\">\n",
       "      <th></th>\n",
       "      <th>sharesCount</th>\n",
       "      <th>postsCount</th>\n",
       "      <th>likesCount</th>\n",
       "      <th>commentsCount</th>\n",
       "    </tr>\n",
       "    <tr>\n",
       "      <th>year</th>\n",
       "      <th></th>\n",
       "      <th></th>\n",
       "      <th></th>\n",
       "      <th></th>\n",
       "    </tr>\n",
       "  </thead>\n",
       "  <tbody>\n",
       "    <tr>\n",
       "      <th>2012</th>\n",
       "      <td>5</td>\n",
       "      <td>23</td>\n",
       "      <td>96</td>\n",
       "      <td>85</td>\n",
       "    </tr>\n",
       "    <tr>\n",
       "      <th>2013</th>\n",
       "      <td>447</td>\n",
       "      <td>1398</td>\n",
       "      <td>7658</td>\n",
       "      <td>12087</td>\n",
       "    </tr>\n",
       "    <tr>\n",
       "      <th>2014</th>\n",
       "      <td>508</td>\n",
       "      <td>1543</td>\n",
       "      <td>12617</td>\n",
       "      <td>10929</td>\n",
       "    </tr>\n",
       "    <tr>\n",
       "      <th>2015</th>\n",
       "      <td>1038</td>\n",
       "      <td>1719</td>\n",
       "      <td>18385</td>\n",
       "      <td>9767</td>\n",
       "    </tr>\n",
       "  </tbody>\n",
       "</table>\n",
       "</div>"
      ],
      "text/plain": [
       "      sharesCount  postsCount  likesCount  commentsCount\n",
       "year                                                    \n",
       "2012            5          23          96             85\n",
       "2013          447        1398        7658          12087\n",
       "2014          508        1543       12617          10929\n",
       "2015         1038        1719       18385           9767"
      ]
     },
     "execution_count": 243,
     "metadata": {},
     "output_type": "execute_result"
    }
   ],
   "source": [
    "postsY = posts.groupby(['year']).agg({'likesCount' : np.sum,'commentsCount' : np.sum,'sharesCount' : np.sum,'id': 'count'})\n",
    "postsY.rename(columns={'id':'postsCount'},inplace=True)\n",
    "postsY.sort_index()"
   ]
  },
  {
   "cell_type": "markdown",
   "metadata": {},
   "source": [
    "### Figure 2: Activity Counts vs Year\n",
    "* Because of increase in link-posts, the total number of posts (of all types) is increasing annually.\n",
    "* The absolute number of comments has been decreasing annually, despite increased number of overall posts (Figure 2). \n",
    "\n"
   ]
  },
  {
   "cell_type": "code",
   "execution_count": 234,
   "metadata": {
    "collapsed": false
   },
   "outputs": [
    {
     "name": "stderr",
     "output_type": "stream",
     "text": [
      "c:\\Anaconda3\\lib\\site-packages\\matplotlib\\__init__.py:892: UserWarning: axes.color_cycle is deprecated and replaced with axes.prop_cycle; please use the latter.\n",
      "  warnings.warn(self.msg_depr % (key, alt_key))\n"
     ]
    },
    {
     "data": {
      "image/png": "[encoded data removed]",
      "text/plain": [
       "<matplotlib.figure.Figure at 0x1c02d0f0>"
      ]
     },
     "metadata": {},
     "output_type": "display_data"
    }
   ],
   "source": [
    "#postsY.reset_index(inplace=True)\n",
    "fig, Ax = plt.subplots(2,2,figsize=(10,12))\n",
    "\n",
    "sns.barplot(y='postsCount',x='year',data=postsY,ax=Ax[0,0])\n",
    "\n",
    "sns.barplot(y='commentsCount',x='year',data=postsY,ax=Ax[0,1])\n",
    "sns.barplot(y='likesCount',x='year',data=postsY,ax=Ax[1,0])\n",
    "sns.barplot(y='sharesCount',x='year',data=postsY,ax=Ax[1,1])\n",
    "\n",
    "Ax[0,0].set_title('Posts'); Ax[0,0].set_xlabel(''); Ax[0,0].set_ylabel('')\n",
    "Ax[0,1].set_title('Comments')\n",
    "Ax[0,1].set_xlabel('')\n",
    "Ax[0,1].set_ylabel('')\n",
    "Ax[1,0].set_title('Likes')\n",
    "Ax[1,0].set_xlabel('')\n",
    "Ax[1,0].set_ylabel('')\n",
    "Ax[1,1].set_title('Shares')\n",
    "Ax[1,1].set_xlabel('')\n",
    "Ax[1,1].set_ylabel('')\n",
    "\n",
    "plt.savefig('AnnualGrowthEAFacebook.png')\n",
    "#Dammit, what's the command to turn off axis labels?"
   ]
  },
  {
   "cell_type": "markdown",
   "metadata": {},
   "source": [
    "### Table 2: Average Likes/Comments/Shares for Status Posts\n",
    "    - The number of comments per status-post has dropped from an average of 11.3 in 2013, to 7.8 in 2015 (Table 2)\n"
   ]
  },
  {
   "cell_type": "code",
   "execution_count": 224,
   "metadata": {
    "collapsed": false
   },
   "outputs": [
    {
     "data": {
      "text/html": [
       "<div>\n",
       "<table border=\"1\" class=\"dataframe\">\n",
       "  <thead>\n",
       "    <tr style=\"text-align: right;\">\n",
       "      <th></th>\n",
       "      <th></th>\n",
       "      <th>likesCount</th>\n",
       "      <th>commentsCount</th>\n",
       "      <th>sharesCount</th>\n",
       "    </tr>\n",
       "    <tr>\n",
       "      <th>year</th>\n",
       "      <th>type</th>\n",
       "      <th></th>\n",
       "      <th></th>\n",
       "      <th></th>\n",
       "    </tr>\n",
       "  </thead>\n",
       "  <tbody>\n",
       "    <tr>\n",
       "      <th>2012</th>\n",
       "      <th>status</th>\n",
       "      <td>3.67</td>\n",
       "      <td>1.22</td>\n",
       "      <td>0.00</td>\n",
       "    </tr>\n",
       "    <tr>\n",
       "      <th>2013</th>\n",
       "      <th>status</th>\n",
       "      <td>5.14</td>\n",
       "      <td>11.27</td>\n",
       "      <td>0.01</td>\n",
       "    </tr>\n",
       "    <tr>\n",
       "      <th>2014</th>\n",
       "      <th>status</th>\n",
       "      <td>7.34</td>\n",
       "      <td>10.10</td>\n",
       "      <td>0.02</td>\n",
       "    </tr>\n",
       "    <tr>\n",
       "      <th>2015</th>\n",
       "      <th>status</th>\n",
       "      <td>9.32</td>\n",
       "      <td>7.79</td>\n",
       "      <td>0.04</td>\n",
       "    </tr>\n",
       "  </tbody>\n",
       "</table>\n",
       "</div>"
      ],
      "text/plain": [
       "             likesCount  commentsCount  sharesCount\n",
       "year type                                          \n",
       "2012 status        3.67           1.22         0.00\n",
       "2013 status        5.14          11.27         0.01\n",
       "2014 status        7.34          10.10         0.02\n",
       "2015 status        9.32           7.79         0.04"
      ]
     },
     "execution_count": 224,
     "metadata": {},
     "output_type": "execute_result"
    }
   ],
   "source": [
    "postsTypes = posts[(posts['type']=='status')].groupby(['year','type']).mean()\n",
    "postsTypes[['likesCount','commentsCount','sharesCount']].round(2)"
   ]
  },
  {
   "cell_type": "markdown",
   "metadata": {},
   "source": [
    "### Table 3: Likes/Comments/Shares for Status vs Links\n",
    "* Status-posts receive an average of 9.7 comments per post compared to 5.4 comments per post for link-posts (Table 3).\n",
    "* Link-posts receive slightly more likes on average than status-posts, 9.3 vs. 7.2 (Table 3).\n",
    "* Link-posts receive more than 30 times the number of shares as status-posts on average. This explains the large increase in number of shares in 2015."
   ]
  },
  {
   "cell_type": "code",
   "execution_count": 235,
   "metadata": {
    "collapsed": false
   },
   "outputs": [
    {
     "data": {
      "text/html": [
       "<div>\n",
       "<table border=\"1\" class=\"dataframe\">\n",
       "  <thead>\n",
       "    <tr style=\"text-align: right;\">\n",
       "      <th></th>\n",
       "      <th>likesCount</th>\n",
       "      <th>commentsCount</th>\n",
       "      <th>sharesCount</th>\n",
       "    </tr>\n",
       "    <tr>\n",
       "      <th>type</th>\n",
       "      <th></th>\n",
       "      <th></th>\n",
       "      <th></th>\n",
       "    </tr>\n",
       "  </thead>\n",
       "  <tbody>\n",
       "    <tr>\n",
       "      <th>link</th>\n",
       "      <td>9.29</td>\n",
       "      <td>5.37</td>\n",
       "      <td>0.72</td>\n",
       "    </tr>\n",
       "    <tr>\n",
       "      <th>status</th>\n",
       "      <td>7.21</td>\n",
       "      <td>9.71</td>\n",
       "      <td>0.02</td>\n",
       "    </tr>\n",
       "  </tbody>\n",
       "</table>\n",
       "</div>"
      ],
      "text/plain": [
       "        likesCount  commentsCount  sharesCount\n",
       "type                                          \n",
       "link          9.29           5.37         0.72\n",
       "status        7.21           9.71         0.02"
      ]
     },
     "execution_count": 235,
     "metadata": {},
     "output_type": "execute_result"
    }
   ],
   "source": [
    "postsTypes = posts[(posts['type']=='link')|(posts['type']=='status')].groupby(['type']).mean()\n",
    "postsTypes[['likesCount','commentsCount','sharesCount']].round(2)\n"
   ]
  },
  {
   "cell_type": "markdown",
   "metadata": {
    "collapsed": true
   },
   "source": [
    "### Figure 3: Monthly Variation"
   ]
  },
  {
   "cell_type": "code",
   "execution_count": 301,
   "metadata": {
    "collapsed": false,
    "scrolled": false
   },
   "outputs": [
    {
     "data": {
      "text/plain": [
       "<matplotlib.text.Text at 0x20cbc940>"
      ]
     },
     "execution_count": 301,
     "metadata": {},
     "output_type": "execute_result"
    },
    {
     "data": {
      "image/png": "[encoded data removed]",
      "text/plain": [
       "<matplotlib.figure.Figure at 0x1c1157b8>"
      ]
     },
     "metadata": {},
     "output_type": "display_data"
    }
   ],
   "source": [
    "postsW = posts.groupby(['year','month']).agg({'likesCount' : np.sum,'commentsCount' : np.sum,'sharesCount' : np.sum,'id': 'count'})\n",
    "postsW.rename(columns={'id':'postsCount'},inplace=True)\n",
    "postsW['date_month'] = [datetime.datetime(a[0],a[1],15,0,0) for a in list(postsW.index)]\n",
    "\n",
    "months = MonthLocator(interval=2)\n",
    "monthsFmt = DateFormatter(\"%b-%y\")\n",
    "fig, (ax1) = plt.subplots(1,1,figsize=(10,5),sharex=False)\n",
    "ax1.plot_date(postsW['date_month'],postsW['postsCount'],)\n",
    "ax1.xaxis.set_major_locator(months)\n",
    "ax1.xaxis.set_major_formatter(monthsFmt)\n",
    "\n",
    "fig.autofmt_xdate()\n",
    "ax1.autoscale_view()\n",
    "ax1.set_title('Posts Per Month')\n"
   ]
  },
  {
   "cell_type": "code",
   "execution_count": null,
   "metadata": {
    "collapsed": true
   },
   "outputs": [],
   "source": []
  },
  {
   "cell_type": "code",
   "execution_count": null,
   "metadata": {
    "collapsed": true
   },
   "outputs": [],
   "source": []
  },
  {
   "cell_type": "code",
   "execution_count": null,
   "metadata": {
    "collapsed": true
   },
   "outputs": [],
   "source": []
  },
  {
   "cell_type": "code",
   "execution_count": null,
   "metadata": {
    "collapsed": true
   },
   "outputs": [],
   "source": []
  },
  {
   "cell_type": "code",
   "execution_count": null,
   "metadata": {
    "collapsed": true
   },
   "outputs": [],
   "source": []
  },
  {
   "cell_type": "code",
   "execution_count": null,
   "metadata": {
    "collapsed": true
   },
   "outputs": [],
   "source": []
  },
  {
   "cell_type": "code",
   "execution_count": null,
   "metadata": {
    "collapsed": true
   },
   "outputs": [],
   "source": []
  },
  {
   "cell_type": "code",
   "execution_count": null,
   "metadata": {
    "collapsed": true
   },
   "outputs": [],
   "source": []
  },
  {
   "cell_type": "code",
   "execution_count": null,
   "metadata": {
    "collapsed": true
   },
   "outputs": [],
   "source": []
  },
  {
   "cell_type": "code",
   "execution_count": null,
   "metadata": {
    "collapsed": true
   },
   "outputs": [],
   "source": []
  },
  {
   "cell_type": "code",
   "execution_count": null,
   "metadata": {
    "collapsed": true
   },
   "outputs": [],
   "source": []
  },
  {
   "cell_type": "code",
   "execution_count": null,
   "metadata": {
    "collapsed": true
   },
   "outputs": [],
   "source": []
  },
  {
   "cell_type": "code",
   "execution_count": null,
   "metadata": {
    "collapsed": true
   },
   "outputs": [],
   "source": []
  },
  {
   "cell_type": "code",
   "execution_count": null,
   "metadata": {
    "collapsed": true
   },
   "outputs": [],
   "source": []
  },
  {
   "cell_type": "code",
   "execution_count": null,
   "metadata": {
    "collapsed": true
   },
   "outputs": [],
   "source": []
  },
  {
   "cell_type": "code",
   "execution_count": null,
   "metadata": {
    "collapsed": true
   },
   "outputs": [],
   "source": []
  },
  {
   "cell_type": "code",
   "execution_count": 88,
   "metadata": {
    "collapsed": false
   },
   "outputs": [
    {
     "data": {
      "text/plain": [
       "datetime.datetime(2015, 2, 10, 0, 0)"
      ]
     },
     "execution_count": 88,
     "metadata": {},
     "output_type": "execute_result"
    }
   ],
   "source": [
    "datetime.datetime(2015,2,10)"
   ]
  },
  {
   "cell_type": "code",
   "execution_count": null,
   "metadata": {
    "collapsed": true
   },
   "outputs": [],
   "source": []
  },
  {
   "cell_type": "code",
   "execution_count": 71,
   "metadata": {
    "collapsed": false
   },
   "outputs": [],
   "source": [
    "from matplotlib.dates import MonthLocator, WeekdayLocator, DateFormatter\n",
    "months = MonthLocator()\n",
    "monthsFmt = DateFormatter(\"%b-%y\")"
   ]
  },
  {
   "cell_type": "code",
   "execution_count": 103,
   "metadata": {
    "collapsed": false
   },
   "outputs": [],
   "source": [
    "postsM.reset_index(inplace=True)"
   ]
  },
  {
   "cell_type": "code",
   "execution_count": 100,
   "metadata": {
    "collapsed": false
   },
   "outputs": [
    {
     "data": {
      "text/html": [
       "<div>\n",
       "<table border=\"1\" class=\"dataframe\">\n",
       "  <thead>\n",
       "    <tr style=\"text-align: right;\">\n",
       "      <th></th>\n",
       "      <th>year</th>\n",
       "      <th>month</th>\n",
       "      <th>sharesCount</th>\n",
       "      <th>postsCount</th>\n",
       "      <th>likesCount</th>\n",
       "      <th>commentsCount</th>\n",
       "      <th>date_month</th>\n",
       "    </tr>\n",
       "  </thead>\n",
       "  <tbody>\n",
       "    <tr>\n",
       "      <th>0</th>\n",
       "      <td>2012</td>\n",
       "      <td>11</td>\n",
       "      <td>1</td>\n",
       "      <td>10</td>\n",
       "      <td>60</td>\n",
       "      <td>54</td>\n",
       "      <td>2012-11-15</td>\n",
       "    </tr>\n",
       "    <tr>\n",
       "      <th>1</th>\n",
       "      <td>2012</td>\n",
       "      <td>12</td>\n",
       "      <td>4</td>\n",
       "      <td>13</td>\n",
       "      <td>36</td>\n",
       "      <td>31</td>\n",
       "      <td>2012-12-15</td>\n",
       "    </tr>\n",
       "  </tbody>\n",
       "</table>\n",
       "</div>"
      ],
      "text/plain": [
       "   year  month  sharesCount  postsCount  likesCount  commentsCount date_month\n",
       "0  2012     11            1          10          60             54 2012-11-15\n",
       "1  2012     12            4          13          36             31 2012-12-15"
      ]
     },
     "execution_count": 100,
     "metadata": {},
     "output_type": "execute_result"
    }
   ],
   "source": [
    "postsM = postsW\n",
    "postsM.reset_index().head(2)"
   ]
  },
  {
   "cell_type": "code",
   "execution_count": 108,
   "metadata": {
    "collapsed": false
   },
   "outputs": [
    {
     "data": {
      "text/html": [
       "<div>\n",
       "<table border=\"1\" class=\"dataframe\">\n",
       "  <thead>\n",
       "    <tr style=\"text-align: right;\">\n",
       "      <th></th>\n",
       "      <th>year</th>\n",
       "      <th>month</th>\n",
       "      <th>sharesCount</th>\n",
       "      <th>postsCount</th>\n",
       "      <th>likesCount</th>\n",
       "      <th>commentsCount</th>\n",
       "      <th>date_month</th>\n",
       "      <th>month-year</th>\n",
       "    </tr>\n",
       "  </thead>\n",
       "  <tbody>\n",
       "    <tr>\n",
       "      <th>0</th>\n",
       "      <td>2012</td>\n",
       "      <td>11</td>\n",
       "      <td>1</td>\n",
       "      <td>10</td>\n",
       "      <td>60</td>\n",
       "      <td>54</td>\n",
       "      <td>2012-11-15</td>\n",
       "      <td>0     11\\n1     12\\n2      1\\n3      2\\n4     ...</td>\n",
       "    </tr>\n",
       "    <tr>\n",
       "      <th>1</th>\n",
       "      <td>2012</td>\n",
       "      <td>12</td>\n",
       "      <td>4</td>\n",
       "      <td>13</td>\n",
       "      <td>36</td>\n",
       "      <td>31</td>\n",
       "      <td>2012-12-15</td>\n",
       "      <td>0     11\\n1     12\\n2      1\\n3      2\\n4     ...</td>\n",
       "    </tr>\n",
       "  </tbody>\n",
       "</table>\n",
       "</div>"
      ],
      "text/plain": [
       "   year  month  sharesCount  postsCount  likesCount  commentsCount date_month  \\\n",
       "0  2012     11            1          10          60             54 2012-11-15   \n",
       "1  2012     12            4          13          36             31 2012-12-15   \n",
       "\n",
       "                                          month-year  \n",
       "0  0     11\\n1     12\\n2      1\\n3      2\\n4     ...  \n",
       "1  0     11\\n1     12\\n2      1\\n3      2\\n4     ...  "
      ]
     },
     "execution_count": 108,
     "metadata": {},
     "output_type": "execute_result"
    }
   ],
   "source": [
    "postsM.head(2)"
   ]
  },
  {
   "cell_type": "code",
   "execution_count": 107,
   "metadata": {
    "collapsed": false
   },
   "outputs": [],
   "source": [
    "postsM['month-year'] = str(postsM['month'])+'-'+ str(postsM['year'])"
   ]
  },
  {
   "cell_type": "code",
   "execution_count": 109,
   "metadata": {
    "collapsed": false
   },
   "outputs": [
    {
     "name": "stderr",
     "output_type": "stream",
     "text": [
      "c:\\Anaconda3\\lib\\site-packages\\matplotlib\\__init__.py:892: UserWarning: axes.color_cycle is deprecated and replaced with axes.prop_cycle; please use the latter.\n",
      "  warnings.warn(self.msg_depr % (key, alt_key))\n"
     ]
    },
    {
     "data": {
      "text/plain": [
       "<matplotlib.text.Text at 0x155babe0>"
      ]
     },
     "execution_count": 109,
     "metadata": {},
     "output_type": "execute_result"
    },
    {
     "data": {
      "image/png": "[encoded data removed]",
      "text/plain": [
       "<matplotlib.figure.Figure at 0x115f8630>"
      ]
     },
     "metadata": {},
     "output_type": "display_data"
    }
   ],
   "source": [
    "#postsY.reset_index(inplace=True)\n",
    "fig, Ax = plt.subplots(2,2,figsize=(10,12))\n",
    "\n",
    "sns.barplot(y='postsCount',x='date_month',data=postsM,ax=Ax[0,0],hue='year')\n",
    "\n",
    "sns.barplot(y='commentsCount',x='year',data=postsM,ax=Ax[0,1])\n",
    "sns.barplot(y='likesCount',x='year',data=postsM,ax=Ax[1,0])\n",
    "sns.barplot(y='sharesCount',x='year',data=postsM,ax=Ax[1,1])\n",
    "\n",
    "Ax[0,0].set_title('Posts per Year'); Ax[0,0].set_xlabel(''); Ax[0,0].set_ylabel('')\n",
    "Ax[0,1].set_title('Comments per Year')\n",
    "Ax[0,1].set_xlabel('')\n",
    "Ax[0,1].set_ylabel('')\n",
    "Ax[1,0].set_title('Likes per Year')\n",
    "Ax[1,0].set_xlabel('')\n",
    "Ax[1,0].set_ylabel('')\n",
    "Ax[1,1].set_title('Shares per Year')\n",
    "Ax[1,1].set_xlabel('')\n",
    "Ax[1,1].set_ylabel('')\n",
    "\n",
    "#Dammit, what's the command to turn off axis labels?"
   ]
  },
  {
   "cell_type": "code",
   "execution_count": 267,
   "metadata": {
    "collapsed": false
   },
   "outputs": [
    {
     "data": {
      "text/html": [
       "<div>\n",
       "<table border=\"1\" class=\"dataframe\">\n",
       "  <thead>\n",
       "    <tr style=\"text-align: right;\">\n",
       "      <th></th>\n",
       "      <th>year</th>\n",
       "      <th>quarter</th>\n",
       "      <th>sharesCount</th>\n",
       "      <th>postsCount</th>\n",
       "      <th>likesCount</th>\n",
       "      <th>commentsCount</th>\n",
       "      <th>date_quarter</th>\n",
       "    </tr>\n",
       "  </thead>\n",
       "  <tbody>\n",
       "    <tr>\n",
       "      <th>1</th>\n",
       "      <td>2013</td>\n",
       "      <td>1</td>\n",
       "      <td>57</td>\n",
       "      <td>111</td>\n",
       "      <td>474</td>\n",
       "      <td>989</td>\n",
       "      <td>2013-02-15</td>\n",
       "    </tr>\n",
       "    <tr>\n",
       "      <th>2</th>\n",
       "      <td>2013</td>\n",
       "      <td>2</td>\n",
       "      <td>110</td>\n",
       "      <td>363</td>\n",
       "      <td>1998</td>\n",
       "      <td>3187</td>\n",
       "      <td>2013-05-15</td>\n",
       "    </tr>\n",
       "    <tr>\n",
       "      <th>3</th>\n",
       "      <td>2013</td>\n",
       "      <td>3</td>\n",
       "      <td>151</td>\n",
       "      <td>477</td>\n",
       "      <td>2502</td>\n",
       "      <td>3948</td>\n",
       "      <td>2013-08-15</td>\n",
       "    </tr>\n",
       "    <tr>\n",
       "      <th>4</th>\n",
       "      <td>2013</td>\n",
       "      <td>4</td>\n",
       "      <td>129</td>\n",
       "      <td>447</td>\n",
       "      <td>2684</td>\n",
       "      <td>3963</td>\n",
       "      <td>2013-11-15</td>\n",
       "    </tr>\n",
       "    <tr>\n",
       "      <th>5</th>\n",
       "      <td>2014</td>\n",
       "      <td>1</td>\n",
       "      <td>33</td>\n",
       "      <td>440</td>\n",
       "      <td>3680</td>\n",
       "      <td>3309</td>\n",
       "      <td>2014-02-15</td>\n",
       "    </tr>\n",
       "    <tr>\n",
       "      <th>6</th>\n",
       "      <td>2014</td>\n",
       "      <td>2</td>\n",
       "      <td>215</td>\n",
       "      <td>382</td>\n",
       "      <td>3292</td>\n",
       "      <td>3193</td>\n",
       "      <td>2014-05-15</td>\n",
       "    </tr>\n",
       "    <tr>\n",
       "      <th>7</th>\n",
       "      <td>2014</td>\n",
       "      <td>3</td>\n",
       "      <td>156</td>\n",
       "      <td>381</td>\n",
       "      <td>3121</td>\n",
       "      <td>2227</td>\n",
       "      <td>2014-08-15</td>\n",
       "    </tr>\n",
       "    <tr>\n",
       "      <th>8</th>\n",
       "      <td>2014</td>\n",
       "      <td>4</td>\n",
       "      <td>104</td>\n",
       "      <td>340</td>\n",
       "      <td>2524</td>\n",
       "      <td>2200</td>\n",
       "      <td>2014-11-15</td>\n",
       "    </tr>\n",
       "    <tr>\n",
       "      <th>9</th>\n",
       "      <td>2015</td>\n",
       "      <td>1</td>\n",
       "      <td>75</td>\n",
       "      <td>276</td>\n",
       "      <td>2316</td>\n",
       "      <td>1422</td>\n",
       "      <td>2015-02-15</td>\n",
       "    </tr>\n",
       "    <tr>\n",
       "      <th>10</th>\n",
       "      <td>2015</td>\n",
       "      <td>2</td>\n",
       "      <td>176</td>\n",
       "      <td>423</td>\n",
       "      <td>4231</td>\n",
       "      <td>2974</td>\n",
       "      <td>2015-05-15</td>\n",
       "    </tr>\n",
       "    <tr>\n",
       "      <th>11</th>\n",
       "      <td>2015</td>\n",
       "      <td>3</td>\n",
       "      <td>415</td>\n",
       "      <td>535</td>\n",
       "      <td>6348</td>\n",
       "      <td>3514</td>\n",
       "      <td>2015-08-15</td>\n",
       "    </tr>\n",
       "    <tr>\n",
       "      <th>12</th>\n",
       "      <td>2015</td>\n",
       "      <td>4</td>\n",
       "      <td>372</td>\n",
       "      <td>485</td>\n",
       "      <td>5490</td>\n",
       "      <td>1857</td>\n",
       "      <td>2015-11-15</td>\n",
       "    </tr>\n",
       "  </tbody>\n",
       "</table>\n",
       "</div>"
      ],
      "text/plain": [
       "    year  quarter  sharesCount  postsCount  likesCount  commentsCount  \\\n",
       "1   2013        1           57         111         474            989   \n",
       "2   2013        2          110         363        1998           3187   \n",
       "3   2013        3          151         477        2502           3948   \n",
       "4   2013        4          129         447        2684           3963   \n",
       "5   2014        1           33         440        3680           3309   \n",
       "6   2014        2          215         382        3292           3193   \n",
       "7   2014        3          156         381        3121           2227   \n",
       "8   2014        4          104         340        2524           2200   \n",
       "9   2015        1           75         276        2316           1422   \n",
       "10  2015        2          176         423        4231           2974   \n",
       "11  2015        3          415         535        6348           3514   \n",
       "12  2015        4          372         485        5490           1857   \n",
       "\n",
       "   date_quarter  \n",
       "1    2013-02-15  \n",
       "2    2013-05-15  \n",
       "3    2013-08-15  \n",
       "4    2013-11-15  \n",
       "5    2014-02-15  \n",
       "6    2014-05-15  \n",
       "7    2014-08-15  \n",
       "8    2014-11-15  \n",
       "9    2015-02-15  \n",
       "10   2015-05-15  \n",
       "11   2015-08-15  \n",
       "12   2015-11-15  "
      ]
     },
     "execution_count": 267,
     "metadata": {},
     "output_type": "execute_result"
    }
   ],
   "source": [
    "postsW"
   ]
  },
  {
   "cell_type": "code",
   "execution_count": 266,
   "metadata": {
    "collapsed": false,
    "scrolled": true
   },
   "outputs": [
    {
     "ename": "KeyError",
     "evalue": "'date_month'",
     "output_type": "error",
     "traceback": [
      "\u001b[1;31m---------------------------------------------------------------------------\u001b[0m",
      "\u001b[1;31mKeyError\u001b[0m                                  Traceback (most recent call last)",
      "\u001b[1;32m<ipython-input-266-57d5ecb04347>\u001b[0m in \u001b[0;36m<module>\u001b[1;34m()\u001b[0m\n\u001b[0;32m      3\u001b[0m \u001b[0mpostsW\u001b[0m \u001b[1;33m=\u001b[0m \u001b[0mpostsW\u001b[0m\u001b[1;33m[\u001b[0m\u001b[0mpostsW\u001b[0m\u001b[1;33m.\u001b[0m\u001b[0myear\u001b[0m\u001b[1;33m>\u001b[0m\u001b[1;36m2010\u001b[0m\u001b[1;33m]\u001b[0m\u001b[1;33m\u001b[0m\u001b[0m\n\u001b[0;32m      4\u001b[0m \u001b[0mfig\u001b[0m\u001b[1;33m,\u001b[0m \u001b[1;33m(\u001b[0m\u001b[0max1\u001b[0m\u001b[1;33m,\u001b[0m\u001b[0max2\u001b[0m\u001b[1;33m,\u001b[0m\u001b[0max3\u001b[0m\u001b[1;33m,\u001b[0m\u001b[0max4\u001b[0m\u001b[1;33m)\u001b[0m \u001b[1;33m=\u001b[0m \u001b[0mplt\u001b[0m\u001b[1;33m.\u001b[0m\u001b[0msubplots\u001b[0m\u001b[1;33m(\u001b[0m\u001b[1;36m4\u001b[0m\u001b[1;33m,\u001b[0m\u001b[1;36m1\u001b[0m\u001b[1;33m,\u001b[0m\u001b[0mfigsize\u001b[0m\u001b[1;33m=\u001b[0m\u001b[1;33m(\u001b[0m\u001b[1;36m8\u001b[0m\u001b[1;33m,\u001b[0m\u001b[1;36m8\u001b[0m\u001b[1;33m)\u001b[0m\u001b[1;33m,\u001b[0m\u001b[0msharex\u001b[0m\u001b[1;33m=\u001b[0m\u001b[1;32mFalse\u001b[0m\u001b[1;33m)\u001b[0m\u001b[1;33m\u001b[0m\u001b[0m\n\u001b[1;32m----> 5\u001b[1;33m \u001b[0max1\u001b[0m\u001b[1;33m.\u001b[0m\u001b[0mplot_date\u001b[0m\u001b[1;33m(\u001b[0m\u001b[0mpostsW\u001b[0m\u001b[1;33m[\u001b[0m\u001b[1;34m'date_month'\u001b[0m\u001b[1;33m]\u001b[0m\u001b[1;33m,\u001b[0m\u001b[0mpostsW\u001b[0m\u001b[1;33m[\u001b[0m\u001b[1;34m'postsCount'\u001b[0m\u001b[1;33m]\u001b[0m\u001b[1;33m,\u001b[0m\u001b[1;33m)\u001b[0m\u001b[1;33m\u001b[0m\u001b[0m\n\u001b[0m\u001b[0;32m      6\u001b[0m \u001b[0max2\u001b[0m\u001b[1;33m.\u001b[0m\u001b[0mplot_date\u001b[0m\u001b[1;33m(\u001b[0m\u001b[0mpostsW\u001b[0m\u001b[1;33m[\u001b[0m\u001b[1;34m'date_month'\u001b[0m\u001b[1;33m]\u001b[0m\u001b[1;33m,\u001b[0m\u001b[0mpostsW\u001b[0m\u001b[1;33m[\u001b[0m\u001b[1;34m'commentsCount'\u001b[0m\u001b[1;33m]\u001b[0m\u001b[1;33m)\u001b[0m\u001b[1;33m\u001b[0m\u001b[0m\n\u001b[0;32m      7\u001b[0m \u001b[0max3\u001b[0m\u001b[1;33m.\u001b[0m\u001b[0mplot_date\u001b[0m\u001b[1;33m(\u001b[0m\u001b[0mpostsW\u001b[0m\u001b[1;33m[\u001b[0m\u001b[1;34m'date_month'\u001b[0m\u001b[1;33m]\u001b[0m\u001b[1;33m,\u001b[0m\u001b[0mpostsW\u001b[0m\u001b[1;33m[\u001b[0m\u001b[1;34m'likesCount'\u001b[0m\u001b[1;33m]\u001b[0m\u001b[1;33m)\u001b[0m\u001b[1;33m\u001b[0m\u001b[0m\n",
      "\u001b[1;32mc:\\Anaconda3\\lib\\site-packages\\pandas\\core\\frame.py\u001b[0m in \u001b[0;36m__getitem__\u001b[1;34m(self, key)\u001b[0m\n\u001b[0;32m   1967\u001b[0m             \u001b[1;32mreturn\u001b[0m \u001b[0mself\u001b[0m\u001b[1;33m.\u001b[0m\u001b[0m_getitem_multilevel\u001b[0m\u001b[1;33m(\u001b[0m\u001b[0mkey\u001b[0m\u001b[1;33m)\u001b[0m\u001b[1;33m\u001b[0m\u001b[0m\n\u001b[0;32m   1968\u001b[0m         \u001b[1;32melse\u001b[0m\u001b[1;33m:\u001b[0m\u001b[1;33m\u001b[0m\u001b[0m\n\u001b[1;32m-> 1969\u001b[1;33m             \u001b[1;32mreturn\u001b[0m \u001b[0mself\u001b[0m\u001b[1;33m.\u001b[0m\u001b[0m_getitem_column\u001b[0m\u001b[1;33m(\u001b[0m\u001b[0mkey\u001b[0m\u001b[1;33m)\u001b[0m\u001b[1;33m\u001b[0m\u001b[0m\n\u001b[0m\u001b[0;32m   1970\u001b[0m \u001b[1;33m\u001b[0m\u001b[0m\n\u001b[0;32m   1971\u001b[0m     \u001b[1;32mdef\u001b[0m \u001b[0m_getitem_column\u001b[0m\u001b[1;33m(\u001b[0m\u001b[0mself\u001b[0m\u001b[1;33m,\u001b[0m \u001b[0mkey\u001b[0m\u001b[1;33m)\u001b[0m\u001b[1;33m:\u001b[0m\u001b[1;33m\u001b[0m\u001b[0m\n",
      "\u001b[1;32mc:\\Anaconda3\\lib\\site-packages\\pandas\\core\\frame.py\u001b[0m in \u001b[0;36m_getitem_column\u001b[1;34m(self, key)\u001b[0m\n\u001b[0;32m   1974\u001b[0m         \u001b[1;31m# get column\u001b[0m\u001b[1;33m\u001b[0m\u001b[1;33m\u001b[0m\u001b[0m\n\u001b[0;32m   1975\u001b[0m         \u001b[1;32mif\u001b[0m \u001b[0mself\u001b[0m\u001b[1;33m.\u001b[0m\u001b[0mcolumns\u001b[0m\u001b[1;33m.\u001b[0m\u001b[0mis_unique\u001b[0m\u001b[1;33m:\u001b[0m\u001b[1;33m\u001b[0m\u001b[0m\n\u001b[1;32m-> 1976\u001b[1;33m             \u001b[1;32mreturn\u001b[0m \u001b[0mself\u001b[0m\u001b[1;33m.\u001b[0m\u001b[0m_get_item_cache\u001b[0m\u001b[1;33m(\u001b[0m\u001b[0mkey\u001b[0m\u001b[1;33m)\u001b[0m\u001b[1;33m\u001b[0m\u001b[0m\n\u001b[0m\u001b[0;32m   1977\u001b[0m \u001b[1;33m\u001b[0m\u001b[0m\n\u001b[0;32m   1978\u001b[0m         \u001b[1;31m# duplicate columns & possible reduce dimensionality\u001b[0m\u001b[1;33m\u001b[0m\u001b[1;33m\u001b[0m\u001b[0m\n",
      "\u001b[1;32mc:\\Anaconda3\\lib\\site-packages\\pandas\\core\\generic.py\u001b[0m in \u001b[0;36m_get_item_cache\u001b[1;34m(self, item)\u001b[0m\n\u001b[0;32m   1089\u001b[0m         \u001b[0mres\u001b[0m \u001b[1;33m=\u001b[0m \u001b[0mcache\u001b[0m\u001b[1;33m.\u001b[0m\u001b[0mget\u001b[0m\u001b[1;33m(\u001b[0m\u001b[0mitem\u001b[0m\u001b[1;33m)\u001b[0m\u001b[1;33m\u001b[0m\u001b[0m\n\u001b[0;32m   1090\u001b[0m         \u001b[1;32mif\u001b[0m \u001b[0mres\u001b[0m \u001b[1;32mis\u001b[0m \u001b[1;32mNone\u001b[0m\u001b[1;33m:\u001b[0m\u001b[1;33m\u001b[0m\u001b[0m\n\u001b[1;32m-> 1091\u001b[1;33m             \u001b[0mvalues\u001b[0m \u001b[1;33m=\u001b[0m \u001b[0mself\u001b[0m\u001b[1;33m.\u001b[0m\u001b[0m_data\u001b[0m\u001b[1;33m.\u001b[0m\u001b[0mget\u001b[0m\u001b[1;33m(\u001b[0m\u001b[0mitem\u001b[0m\u001b[1;33m)\u001b[0m\u001b[1;33m\u001b[0m\u001b[0m\n\u001b[0m\u001b[0;32m   1092\u001b[0m             \u001b[0mres\u001b[0m \u001b[1;33m=\u001b[0m \u001b[0mself\u001b[0m\u001b[1;33m.\u001b[0m\u001b[0m_box_item_values\u001b[0m\u001b[1;33m(\u001b[0m\u001b[0mitem\u001b[0m\u001b[1;33m,\u001b[0m \u001b[0mvalues\u001b[0m\u001b[1;33m)\u001b[0m\u001b[1;33m\u001b[0m\u001b[0m\n\u001b[0;32m   1093\u001b[0m             \u001b[0mcache\u001b[0m\u001b[1;33m[\u001b[0m\u001b[0mitem\u001b[0m\u001b[1;33m]\u001b[0m \u001b[1;33m=\u001b[0m \u001b[0mres\u001b[0m\u001b[1;33m\u001b[0m\u001b[0m\n",
      "\u001b[1;32mc:\\Anaconda3\\lib\\site-packages\\pandas\\core\\internals.py\u001b[0m in \u001b[0;36mget\u001b[1;34m(self, item, fastpath)\u001b[0m\n\u001b[0;32m   3209\u001b[0m \u001b[1;33m\u001b[0m\u001b[0m\n\u001b[0;32m   3210\u001b[0m             \u001b[1;32mif\u001b[0m \u001b[1;32mnot\u001b[0m \u001b[0misnull\u001b[0m\u001b[1;33m(\u001b[0m\u001b[0mitem\u001b[0m\u001b[1;33m)\u001b[0m\u001b[1;33m:\u001b[0m\u001b[1;33m\u001b[0m\u001b[0m\n\u001b[1;32m-> 3211\u001b[1;33m                 \u001b[0mloc\u001b[0m \u001b[1;33m=\u001b[0m \u001b[0mself\u001b[0m\u001b[1;33m.\u001b[0m\u001b[0mitems\u001b[0m\u001b[1;33m.\u001b[0m\u001b[0mget_loc\u001b[0m\u001b[1;33m(\u001b[0m\u001b[0mitem\u001b[0m\u001b[1;33m)\u001b[0m\u001b[1;33m\u001b[0m\u001b[0m\n\u001b[0m\u001b[0;32m   3212\u001b[0m             \u001b[1;32melse\u001b[0m\u001b[1;33m:\u001b[0m\u001b[1;33m\u001b[0m\u001b[0m\n\u001b[0;32m   3213\u001b[0m                 \u001b[0mindexer\u001b[0m \u001b[1;33m=\u001b[0m \u001b[0mnp\u001b[0m\u001b[1;33m.\u001b[0m\u001b[0marange\u001b[0m\u001b[1;33m(\u001b[0m\u001b[0mlen\u001b[0m\u001b[1;33m(\u001b[0m\u001b[0mself\u001b[0m\u001b[1;33m.\u001b[0m\u001b[0mitems\u001b[0m\u001b[1;33m)\u001b[0m\u001b[1;33m)\u001b[0m\u001b[1;33m[\u001b[0m\u001b[0misnull\u001b[0m\u001b[1;33m(\u001b[0m\u001b[0mself\u001b[0m\u001b[1;33m.\u001b[0m\u001b[0mitems\u001b[0m\u001b[1;33m)\u001b[0m\u001b[1;33m]\u001b[0m\u001b[1;33m\u001b[0m\u001b[0m\n",
      "\u001b[1;32mc:\\Anaconda3\\lib\\site-packages\\pandas\\core\\index.py\u001b[0m in \u001b[0;36mget_loc\u001b[1;34m(self, key, method, tolerance)\u001b[0m\n\u001b[0;32m   1757\u001b[0m                                  'backfill or nearest lookups')\n\u001b[0;32m   1758\u001b[0m             \u001b[0mkey\u001b[0m \u001b[1;33m=\u001b[0m \u001b[0m_values_from_object\u001b[0m\u001b[1;33m(\u001b[0m\u001b[0mkey\u001b[0m\u001b[1;33m)\u001b[0m\u001b[1;33m\u001b[0m\u001b[0m\n\u001b[1;32m-> 1759\u001b[1;33m             \u001b[1;32mreturn\u001b[0m \u001b[0mself\u001b[0m\u001b[1;33m.\u001b[0m\u001b[0m_engine\u001b[0m\u001b[1;33m.\u001b[0m\u001b[0mget_loc\u001b[0m\u001b[1;33m(\u001b[0m\u001b[0mkey\u001b[0m\u001b[1;33m)\u001b[0m\u001b[1;33m\u001b[0m\u001b[0m\n\u001b[0m\u001b[0;32m   1760\u001b[0m \u001b[1;33m\u001b[0m\u001b[0m\n\u001b[0;32m   1761\u001b[0m         indexer = self.get_indexer([key], method=method,\n",
      "\u001b[1;32mpandas\\index.pyx\u001b[0m in \u001b[0;36mpandas.index.IndexEngine.get_loc (pandas\\index.c:3979)\u001b[1;34m()\u001b[0m\n",
      "\u001b[1;32mpandas\\index.pyx\u001b[0m in \u001b[0;36mpandas.index.IndexEngine.get_loc (pandas\\index.c:3843)\u001b[1;34m()\u001b[0m\n",
      "\u001b[1;32mpandas\\hashtable.pyx\u001b[0m in \u001b[0;36mpandas.hashtable.PyObjectHashTable.get_item (pandas\\hashtable.c:12265)\u001b[1;34m()\u001b[0m\n",
      "\u001b[1;32mpandas\\hashtable.pyx\u001b[0m in \u001b[0;36mpandas.hashtable.PyObjectHashTable.get_item (pandas\\hashtable.c:12216)\u001b[1;34m()\u001b[0m\n",
      "\u001b[1;31mKeyError\u001b[0m: 'date_month'"
     ]
    },
    {
     "data": {
      "image/png": "[encoded data removed]",
      "text/plain": [
       "<matplotlib.figure.Figure at 0x1967e0b8>"
      ]
     },
     "metadata": {},
     "output_type": "display_data"
    }
   ],
   "source": [
    "months = MonthLocator(interval=2)\n",
    "monthsFmt = DateFormatter(\"%b-%y\")\n",
    "postsW = postsW[postsW.year>2010]\n",
    "fig, (ax1,ax2,ax3,ax4) = plt.subplots(4,1,figsize=(8,8),sharex=False)\n",
    "ax1.plot_date(postsW['date_month'],postsW['postsCount'],)\n",
    "ax2.plot_date(postsW['date_month'],postsW['commentsCount'])\n",
    "ax3.plot_date(postsW['date_month'],postsW['likesCount'])\n",
    "ax4.plot_date(postsW['date_month'],postsW['sharesCount'])\n",
    "\n",
    "\n",
    "#ax1.xaxis.set_major_locator(months)\n",
    "#ax1.xaxis.set_major_formatter(monthsFmt)\n",
    "#ax1.autoscale_view()\n",
    "#plt.xticks(rotation = 30)\n",
    "#ax.set_xlim(datetime.datetime.strptime(\"2012-10-01\",\"%Y-%m-%d\"),datetime.datetime.strptime(\"2015-12-31\",\"%Y-%m-%d\"))\n",
    "#ax.plot_date(postsW['date_week'],postsW['postsCount'])\n",
    "\n",
    "#sns.regplot(x=postsY.ts,y=postsY.postsCount,lowess=True)\n",
    "\n",
    "#sns.regplot(x='date_week',y='postsCount',data=posts,ax=ax)"
   ]
  },
  {
   "cell_type": "code",
   "execution_count": null,
   "metadata": {
    "collapsed": true
   },
   "outputs": [],
   "source": []
  },
  {
   "cell_type": "code",
   "execution_count": null,
   "metadata": {
    "collapsed": true
   },
   "outputs": [],
   "source": [
    "posts['date_week']"
   ]
  },
  {
   "cell_type": "code",
   "execution_count": null,
   "metadata": {
    "collapsed": true
   },
   "outputs": [],
   "source": [
    "from datetime import datetime\n"
   ]
  },
  {
   "cell_type": "code",
   "execution_count": null,
   "metadata": {
    "collapsed": false
   },
   "outputs": [],
   "source": [
    "months = MonthLocator(interval=2)\n",
    "monthsFmt = DateFormatter(\"%b-%y\")\n",
    "\n",
    "fig, ax = plt.subplots(figsize=(10,5))\n",
    "ax.plot_date(posts['date_week'],posts_w['postsCount'])\n",
    "ax.xaxis.set_major_locator(months)\n",
    "ax.xaxis.set_major_formatter(monthsFmt)\n",
    "ax.autoscale_view()\n",
    "\n",
    "#g = sns.lmplot(x='date_week',y='postsCount',data=posts_w)\n",
    "ax.set_xlim(datetime.datetime.strptime(\"2012-10-01\",\"%Y-%m-%d\"),datetime.datetime.strptime(\"2015-12-31\",\"%Y-%m-%d\"))\n",
    "\n",
    "\n",
    "#sns.regplot(posts_w['date_week'],posts_w['postsCount'])"
   ]
  },
  {
   "cell_type": "code",
   "execution_count": null,
   "metadata": {
    "collapsed": false
   },
   "outputs": [],
   "source": [
    "import matplotlib\n",
    "matplotlib.style.use('ggplot')"
   ]
  },
  {
   "cell_type": "code",
   "execution_count": null,
   "metadata": {
    "collapsed": false
   },
   "outputs": [],
   "source": [
    "A = pd.Series(index=posts_w['date_week'],data=posts_w['postsCount'].values)"
   ]
  },
  {
   "cell_type": "code",
   "execution_count": null,
   "metadata": {
    "collapsed": false
   },
   "outputs": [],
   "source": [
    "posts=posts_w"
   ]
  },
  {
   "cell_type": "code",
   "execution_count": null,
   "metadata": {
    "collapsed": false
   },
   "outputs": [],
   "source": [
    "posts.reset_index(inplace=True)"
   ]
  },
  {
   "cell_type": "code",
   "execution_count": null,
   "metadata": {
    "collapsed": false
   },
   "outputs": [],
   "source": [
    "posts.plot(kind='scatter',x='postsCount',y='a')"
   ]
  },
  {
   "cell_type": "code",
   "execution_count": null,
   "metadata": {
    "collapsed": false
   },
   "outputs": [],
   "source": [
    "posts.set_index('date_week',inplace=True)"
   ]
  },
  {
   "cell_type": "code",
   "execution_count": null,
   "metadata": {
    "collapsed": false
   },
   "outputs": [],
   "source": [
    "#posts.drop(posts.index[0],inplace=True)"
   ]
  },
  {
   "cell_type": "code",
   "execution_count": null,
   "metadata": {
    "collapsed": true
   },
   "outputs": [],
   "source": []
  },
  {
   "cell_type": "code",
   "execution_count": null,
   "metadata": {
    "collapsed": false
   },
   "outputs": [],
   "source": [
    "posts.plot(kind='scatter',x=list(posts.index),y=posts['postsCount'],subplots=True,figsize=(15,10))\n"
   ]
  },
  {
   "cell_type": "code",
   "execution_count": null,
   "metadata": {
    "collapsed": false
   },
   "outputs": [],
   "source": [
    "posts.plot(figsize=(15,10))\n",
    "#plt.scatter(x=posts.date_week,y=posts.postsCount)\n"
   ]
  },
  {
   "cell_type": "code",
   "execution_count": null,
   "metadata": {
    "collapsed": true
   },
   "outputs": [],
   "source": []
  },
  {
   "cell_type": "code",
   "execution_count": null,
   "metadata": {
    "collapsed": true
   },
   "outputs": [],
   "source": []
  },
  {
   "cell_type": "code",
   "execution_count": null,
   "metadata": {
    "collapsed": true
   },
   "outputs": [],
   "source": []
  },
  {
   "cell_type": "code",
   "execution_count": null,
   "metadata": {
    "collapsed": true
   },
   "outputs": [],
   "source": []
  },
  {
   "cell_type": "code",
   "execution_count": null,
   "metadata": {
    "collapsed": true
   },
   "outputs": [],
   "source": []
  },
  {
   "cell_type": "code",
   "execution_count": null,
   "metadata": {
    "collapsed": true
   },
   "outputs": [],
   "source": []
  },
  {
   "cell_type": "code",
   "execution_count": null,
   "metadata": {
    "collapsed": true
   },
   "outputs": [],
   "source": []
  },
  {
   "cell_type": "code",
   "execution_count": null,
   "metadata": {
    "collapsed": true
   },
   "outputs": [],
   "source": []
  },
  {
   "cell_type": "code",
   "execution_count": null,
   "metadata": {
    "collapsed": true
   },
   "outputs": [],
   "source": []
  },
  {
   "cell_type": "code",
   "execution_count": null,
   "metadata": {
    "collapsed": true
   },
   "outputs": [],
   "source": []
  },
  {
   "cell_type": "code",
   "execution_count": null,
   "metadata": {
    "collapsed": true
   },
   "outputs": [],
   "source": []
  },
  {
   "cell_type": "code",
   "execution_count": null,
   "metadata": {
    "collapsed": true
   },
   "outputs": [],
   "source": []
  },
  {
   "cell_type": "code",
   "execution_count": null,
   "metadata": {
    "collapsed": true
   },
   "outputs": [],
   "source": []
  },
  {
   "cell_type": "code",
   "execution_count": null,
   "metadata": {
    "collapsed": true
   },
   "outputs": [],
   "source": []
  },
  {
   "cell_type": "code",
   "execution_count": null,
   "metadata": {
    "collapsed": true
   },
   "outputs": [],
   "source": []
  },
  {
   "cell_type": "code",
   "execution_count": 117,
   "metadata": {
    "collapsed": false
   },
   "outputs": [
    {
     "data": {
      "text/plain": [
       "Index(['id', 'url', 'createdTime', 'likesCount', 'commentsCount',\n",
       "       'sharesCount', 'authorId', 'authorName', 'type', 'year', 'week',\n",
       "       'month', 'quarter'],\n",
       "      dtype='object')"
      ]
     },
     "execution_count": 117,
     "metadata": {},
     "output_type": "execute_result"
    }
   ],
   "source": [
    "posts.columns"
   ]
  },
  {
   "cell_type": "code",
   "execution_count": 128,
   "metadata": {
    "collapsed": false,
    "scrolled": true
   },
   "outputs": [
    {
     "data": {
      "text/html": [
       "<div>\n",
       "<table border=\"1\" class=\"dataframe\">\n",
       "  <thead>\n",
       "    <tr style=\"text-align: right;\">\n",
       "      <th></th>\n",
       "      <th>year</th>\n",
       "      <th>quarter</th>\n",
       "      <th>sharesCount</th>\n",
       "      <th>postsCount</th>\n",
       "      <th>likesCount</th>\n",
       "      <th>commentsCount</th>\n",
       "      <th>date_quarter</th>\n",
       "    </tr>\n",
       "  </thead>\n",
       "  <tbody>\n",
       "    <tr>\n",
       "      <th>0</th>\n",
       "      <td>2012</td>\n",
       "      <td>4</td>\n",
       "      <td>5</td>\n",
       "      <td>23</td>\n",
       "      <td>96</td>\n",
       "      <td>85</td>\n",
       "      <td>2012-11-15</td>\n",
       "    </tr>\n",
       "    <tr>\n",
       "      <th>1</th>\n",
       "      <td>2013</td>\n",
       "      <td>1</td>\n",
       "      <td>57</td>\n",
       "      <td>111</td>\n",
       "      <td>474</td>\n",
       "      <td>989</td>\n",
       "      <td>2013-02-15</td>\n",
       "    </tr>\n",
       "    <tr>\n",
       "      <th>2</th>\n",
       "      <td>2013</td>\n",
       "      <td>2</td>\n",
       "      <td>110</td>\n",
       "      <td>363</td>\n",
       "      <td>1998</td>\n",
       "      <td>3187</td>\n",
       "      <td>2013-05-15</td>\n",
       "    </tr>\n",
       "    <tr>\n",
       "      <th>3</th>\n",
       "      <td>2013</td>\n",
       "      <td>3</td>\n",
       "      <td>151</td>\n",
       "      <td>477</td>\n",
       "      <td>2502</td>\n",
       "      <td>3948</td>\n",
       "      <td>2013-08-15</td>\n",
       "    </tr>\n",
       "    <tr>\n",
       "      <th>4</th>\n",
       "      <td>2013</td>\n",
       "      <td>4</td>\n",
       "      <td>129</td>\n",
       "      <td>447</td>\n",
       "      <td>2684</td>\n",
       "      <td>3963</td>\n",
       "      <td>2013-11-15</td>\n",
       "    </tr>\n",
       "  </tbody>\n",
       "</table>\n",
       "</div>"
      ],
      "text/plain": [
       "   year  quarter  sharesCount  postsCount  likesCount  commentsCount  \\\n",
       "0  2012        4            5          23          96             85   \n",
       "1  2013        1           57         111         474            989   \n",
       "2  2013        2          110         363        1998           3187   \n",
       "3  2013        3          151         477        2502           3948   \n",
       "4  2013        4          129         447        2684           3963   \n",
       "\n",
       "  date_quarter  \n",
       "0   2012-11-15  \n",
       "1   2013-02-15  \n",
       "2   2013-05-15  \n",
       "3   2013-08-15  \n",
       "4   2013-11-15  "
      ]
     },
     "execution_count": 128,
     "metadata": {},
     "output_type": "execute_result"
    }
   ],
   "source": [
    "postsQ = posts.groupby(['year','quarter']).agg({'likesCount' : np.sum,\n",
    "                                              'commentsCount' : np.sum,\n",
    "                                              'sharesCount' : np.sum,\n",
    "                                              'id': 'count'})\n",
    "postsQ.rename(columns={'id':'postsCount'},inplace=True)\n",
    "postsQ['date_quarter'] = [datetime.datetime(a[0],a[1]*3-1,15,0,0) for a in list(postsQ.index)]\n",
    "#postsQ['date_month'] = [datetime.datetime.strptime(str(a[0])+'-W'+str(a[1]) + '-0', \"%Y-W%W-%w\") for a in list(postsW.index)]\n",
    "postsQ.reset_index(inplace=True)\n",
    "postsQ.sort_index().head(5)"
   ]
  },
  {
   "cell_type": "code",
   "execution_count": null,
   "metadata": {
    "collapsed": true
   },
   "outputs": [],
   "source": []
  },
  {
   "cell_type": "code",
   "execution_count": 272,
   "metadata": {
    "collapsed": false
   },
   "outputs": [
    {
     "name": "stderr",
     "output_type": "stream",
     "text": [
      "c:\\Anaconda3\\lib\\site-packages\\matplotlib\\__init__.py:892: UserWarning: axes.color_cycle is deprecated and replaced with axes.prop_cycle; please use the latter.\n",
      "  warnings.warn(self.msg_depr % (key, alt_key))\n"
     ]
    },
    {
     "data": {
      "text/plain": [
       "(array([ 0,  1,  2,  3,  4,  5,  6,  7,  8,  9, 10, 11, 12]),\n",
       " <a list of 13 Text xticklabel objects>)"
      ]
     },
     "execution_count": 272,
     "metadata": {},
     "output_type": "execute_result"
    },
    {
     "data": {
      "image/png": "[encoded data removed]",
      "text/plain": [
       "<matplotlib.figure.Figure at 0x1d556ac8>"
      ]
     },
     "metadata": {},
     "output_type": "display_data"
    }
   ],
   "source": [
    "#postsY.reset_index(inplace=True)\n",
    "#fig, Ax = plt.subplots(2,2,figsize=(10,12))\n",
    "\n",
    "sns.barplot(y='postsCount',x='date_quarter',data=postsQ,hue='year')\n",
    "plt.xticks(rotation = 90)\n"
   ]
  },
  {
   "cell_type": "code",
   "execution_count": 132,
   "metadata": {
    "collapsed": false
   },
   "outputs": [
    {
     "name": "stderr",
     "output_type": "stream",
     "text": [
      "c:\\Anaconda3\\lib\\site-packages\\matplotlib\\__init__.py:892: UserWarning: axes.color_cycle is deprecated and replaced with axes.prop_cycle; please use the latter.\n",
      "  warnings.warn(self.msg_depr % (key, alt_key))\n"
     ]
    },
    {
     "data": {
      "text/plain": [
       "<matplotlib.text.Text at 0x198ac048>"
      ]
     },
     "execution_count": 132,
     "metadata": {},
     "output_type": "execute_result"
    },
    {
     "data": {
      "image/png": "[encoded data removed]",
      "text/plain": [
       "<matplotlib.figure.Figure at 0x195d7908>"
      ]
     },
     "metadata": {},
     "output_type": "display_data"
    }
   ],
   "source": [
    "#postsY.reset_index(inplace=True)\n",
    "fig, Ax = plt.subplots(2,2,figsize=(10,12))\n",
    "\n",
    "sns.barplot(y='postsCount',x='date_quarter',data=postsQ,ax=Ax[0,0],hue='year')\n",
    "\n",
    "sns.barplot(y='commentsCount',x='year',data=postsM,ax=Ax[0,1])\n",
    "sns.barplot(y='likesCount',x='year',data=postsM,ax=Ax[1,0])\n",
    "sns.barplot(y='sharesCount',x='year',data=postsM,ax=Ax[1,1])\n",
    "\n",
    "Ax[0,0].set_title('Posts per Year'); Ax[0,0].set_xlabel(''); Ax[0,0].set_ylabel('')\n",
    "Ax[0,1].set_title('Comments per Year')\n",
    "Ax[0,1].set_xlabel('')\n",
    "Ax[0,1].set_ylabel('')\n",
    "Ax[1,0].set_title('Likes per Year')\n",
    "Ax[1,0].set_xlabel('')\n",
    "Ax[1,0].set_ylabel('')\n",
    "Ax[1,1].set_title('Shares per Year')\n",
    "Ax[1,1].set_xlabel('')\n",
    "Ax[1,1].set_ylabel('')\n",
    "\n",
    "#Dammit, what's the command to turn off axis labels?"
   ]
  },
  {
   "cell_type": "code",
   "execution_count": 231,
   "metadata": {
    "collapsed": false,
    "scrolled": true
   },
   "outputs": [
    {
     "data": {
      "text/plain": [
       "[<matplotlib.lines.Line2D at 0x1bb647f0>]"
      ]
     },
     "execution_count": 231,
     "metadata": {},
     "output_type": "execute_result"
    },
    {
     "data": {
      "image/png": "[encoded data removed]",
      "text/plain": [
       "<matplotlib.figure.Figure at 0x1b634320>"
      ]
     },
     "metadata": {},
     "output_type": "display_data"
    }
   ],
   "source": [
    "months = MonthLocator(interval=2)\n",
    "monthsFmt = DateFormatter(\"%b-%y\")\n",
    "postsW = postsQ[postsQ.year>2012]\n",
    "fig, (ax1,ax2,ax3,ax4) = plt.subplots(4,1,figsize=(6,8),sharex=False)\n",
    "ax1.plot_date(postsQ['date_quarter'],postsQ['postsCount'],'-o')\n",
    "ax2.plot_date(postsQ['date_quarter'],postsQ['commentsCount'],'-o')\n",
    "#ax2.plot_date(postsW['date_month'],postsW['commentsCount'])\n",
    "#ax2.plot_date(postsW['date_month'],postsW['commentsCount'])\n",
    "#ax3.plot_date(postsW['date_month'],postsW['likesCount'])\n",
    "#ax4.plot_date(postsW['date_month'],postsW['sharesCount'])\n",
    "\n",
    "\n",
    "#ax1.xaxis.set_major_locator(months)\n",
    "#ax1.xaxis.set_major_formatter(monthsFmt)\n",
    "#ax1.autoscale_view()\n",
    "#plt.xticks(rotation = 30)\n",
    "#ax.set_xlim(datetime.datetime.strptime(\"2012-10-01\",\"%Y-%m-%d\"),datetime.datetime.strptime(\"2015-12-31\",\"%Y-%m-%d\"))\n",
    "#ax.plot_date(postsW['date_week'],postsW['postsCount'])\n",
    "\n",
    "#sns.regplot(x=postsY.ts,y=postsY.postsCount,lowess=True)\n",
    "\n",
    "#sns.regplot(x='date_week',y='postsCount',data=posts,ax=ax)"
   ]
  },
  {
   "cell_type": "code",
   "execution_count": null,
   "metadata": {
    "collapsed": true
   },
   "outputs": [],
   "source": []
  },
  {
   "cell_type": "code",
   "execution_count": 65,
   "metadata": {
    "collapsed": false,
    "scrolled": true
   },
   "outputs": [
    {
     "data": {
      "text/html": [
       "<div>\n",
       "<table border=\"1\" class=\"dataframe\">\n",
       "  <thead>\n",
       "    <tr style=\"text-align: right;\">\n",
       "      <th></th>\n",
       "      <th></th>\n",
       "      <th>sharesCount</th>\n",
       "      <th>postsCount</th>\n",
       "      <th>likesCount</th>\n",
       "      <th>commentsCount</th>\n",
       "      <th>date_week</th>\n",
       "    </tr>\n",
       "    <tr>\n",
       "      <th>year</th>\n",
       "      <th>week</th>\n",
       "      <th></th>\n",
       "      <th></th>\n",
       "      <th></th>\n",
       "      <th></th>\n",
       "      <th></th>\n",
       "    </tr>\n",
       "  </thead>\n",
       "  <tbody>\n",
       "    <tr>\n",
       "      <th rowspan=\"7\" valign=\"top\">2012</th>\n",
       "      <th>1</th>\n",
       "      <td>1</td>\n",
       "      <td>1</td>\n",
       "      <td>4</td>\n",
       "      <td>0</td>\n",
       "      <td>2012-01-08</td>\n",
       "    </tr>\n",
       "    <tr>\n",
       "      <th>47</th>\n",
       "      <td>1</td>\n",
       "      <td>5</td>\n",
       "      <td>43</td>\n",
       "      <td>53</td>\n",
       "      <td>2012-11-25</td>\n",
       "    </tr>\n",
       "    <tr>\n",
       "      <th>48</th>\n",
       "      <td>0</td>\n",
       "      <td>6</td>\n",
       "      <td>19</td>\n",
       "      <td>2</td>\n",
       "      <td>2012-12-02</td>\n",
       "    </tr>\n",
       "    <tr>\n",
       "      <th>49</th>\n",
       "      <td>0</td>\n",
       "      <td>3</td>\n",
       "      <td>6</td>\n",
       "      <td>3</td>\n",
       "      <td>2012-12-09</td>\n",
       "    </tr>\n",
       "    <tr>\n",
       "      <th>50</th>\n",
       "      <td>3</td>\n",
       "      <td>3</td>\n",
       "      <td>5</td>\n",
       "      <td>16</td>\n",
       "      <td>2012-12-16</td>\n",
       "    </tr>\n",
       "    <tr>\n",
       "      <th>51</th>\n",
       "      <td>0</td>\n",
       "      <td>3</td>\n",
       "      <td>8</td>\n",
       "      <td>6</td>\n",
       "      <td>2012-12-23</td>\n",
       "    </tr>\n",
       "    <tr>\n",
       "      <th>52</th>\n",
       "      <td>0</td>\n",
       "      <td>2</td>\n",
       "      <td>11</td>\n",
       "      <td>5</td>\n",
       "      <td>2012-12-30</td>\n",
       "    </tr>\n",
       "    <tr>\n",
       "      <th rowspan=\"23\" valign=\"top\">2013</th>\n",
       "      <th>1</th>\n",
       "      <td>1</td>\n",
       "      <td>13</td>\n",
       "      <td>99</td>\n",
       "      <td>114</td>\n",
       "      <td>2013-01-13</td>\n",
       "    </tr>\n",
       "    <tr>\n",
       "      <th>2</th>\n",
       "      <td>7</td>\n",
       "      <td>3</td>\n",
       "      <td>11</td>\n",
       "      <td>4</td>\n",
       "      <td>2013-01-20</td>\n",
       "    </tr>\n",
       "    <tr>\n",
       "      <th>3</th>\n",
       "      <td>0</td>\n",
       "      <td>7</td>\n",
       "      <td>8</td>\n",
       "      <td>22</td>\n",
       "      <td>2013-01-27</td>\n",
       "    </tr>\n",
       "    <tr>\n",
       "      <th>4</th>\n",
       "      <td>0</td>\n",
       "      <td>4</td>\n",
       "      <td>28</td>\n",
       "      <td>45</td>\n",
       "      <td>2013-02-03</td>\n",
       "    </tr>\n",
       "    <tr>\n",
       "      <th>5</th>\n",
       "      <td>7</td>\n",
       "      <td>6</td>\n",
       "      <td>33</td>\n",
       "      <td>10</td>\n",
       "      <td>2013-02-10</td>\n",
       "    </tr>\n",
       "    <tr>\n",
       "      <th>6</th>\n",
       "      <td>7</td>\n",
       "      <td>7</td>\n",
       "      <td>36</td>\n",
       "      <td>28</td>\n",
       "      <td>2013-02-17</td>\n",
       "    </tr>\n",
       "    <tr>\n",
       "      <th>7</th>\n",
       "      <td>3</td>\n",
       "      <td>9</td>\n",
       "      <td>27</td>\n",
       "      <td>147</td>\n",
       "      <td>2013-02-24</td>\n",
       "    </tr>\n",
       "    <tr>\n",
       "      <th>8</th>\n",
       "      <td>1</td>\n",
       "      <td>11</td>\n",
       "      <td>34</td>\n",
       "      <td>52</td>\n",
       "      <td>2013-03-03</td>\n",
       "    </tr>\n",
       "    <tr>\n",
       "      <th>9</th>\n",
       "      <td>24</td>\n",
       "      <td>14</td>\n",
       "      <td>61</td>\n",
       "      <td>171</td>\n",
       "      <td>2013-03-10</td>\n",
       "    </tr>\n",
       "    <tr>\n",
       "      <th>10</th>\n",
       "      <td>2</td>\n",
       "      <td>5</td>\n",
       "      <td>28</td>\n",
       "      <td>33</td>\n",
       "      <td>2013-03-17</td>\n",
       "    </tr>\n",
       "    <tr>\n",
       "      <th>11</th>\n",
       "      <td>5</td>\n",
       "      <td>16</td>\n",
       "      <td>72</td>\n",
       "      <td>147</td>\n",
       "      <td>2013-03-24</td>\n",
       "    </tr>\n",
       "    <tr>\n",
       "      <th>12</th>\n",
       "      <td>1</td>\n",
       "      <td>15</td>\n",
       "      <td>67</td>\n",
       "      <td>114</td>\n",
       "      <td>2013-03-31</td>\n",
       "    </tr>\n",
       "    <tr>\n",
       "      <th>13</th>\n",
       "      <td>0</td>\n",
       "      <td>9</td>\n",
       "      <td>47</td>\n",
       "      <td>172</td>\n",
       "      <td>2013-04-07</td>\n",
       "    </tr>\n",
       "    <tr>\n",
       "      <th>14</th>\n",
       "      <td>3</td>\n",
       "      <td>17</td>\n",
       "      <td>75</td>\n",
       "      <td>156</td>\n",
       "      <td>2013-04-14</td>\n",
       "    </tr>\n",
       "    <tr>\n",
       "      <th>15</th>\n",
       "      <td>0</td>\n",
       "      <td>9</td>\n",
       "      <td>70</td>\n",
       "      <td>104</td>\n",
       "      <td>2013-04-21</td>\n",
       "    </tr>\n",
       "    <tr>\n",
       "      <th>16</th>\n",
       "      <td>3</td>\n",
       "      <td>13</td>\n",
       "      <td>76</td>\n",
       "      <td>155</td>\n",
       "      <td>2013-04-28</td>\n",
       "    </tr>\n",
       "    <tr>\n",
       "      <th>17</th>\n",
       "      <td>7</td>\n",
       "      <td>35</td>\n",
       "      <td>229</td>\n",
       "      <td>332</td>\n",
       "      <td>2013-05-05</td>\n",
       "    </tr>\n",
       "    <tr>\n",
       "      <th>18</th>\n",
       "      <td>30</td>\n",
       "      <td>24</td>\n",
       "      <td>113</td>\n",
       "      <td>264</td>\n",
       "      <td>2013-05-12</td>\n",
       "    </tr>\n",
       "    <tr>\n",
       "      <th>19</th>\n",
       "      <td>4</td>\n",
       "      <td>20</td>\n",
       "      <td>56</td>\n",
       "      <td>186</td>\n",
       "      <td>2013-05-19</td>\n",
       "    </tr>\n",
       "    <tr>\n",
       "      <th>20</th>\n",
       "      <td>10</td>\n",
       "      <td>30</td>\n",
       "      <td>193</td>\n",
       "      <td>183</td>\n",
       "      <td>2013-05-26</td>\n",
       "    </tr>\n",
       "    <tr>\n",
       "      <th>21</th>\n",
       "      <td>12</td>\n",
       "      <td>51</td>\n",
       "      <td>397</td>\n",
       "      <td>380</td>\n",
       "      <td>2013-06-02</td>\n",
       "    </tr>\n",
       "    <tr>\n",
       "      <th>22</th>\n",
       "      <td>19</td>\n",
       "      <td>36</td>\n",
       "      <td>209</td>\n",
       "      <td>267</td>\n",
       "      <td>2013-06-09</td>\n",
       "    </tr>\n",
       "    <tr>\n",
       "      <th>23</th>\n",
       "      <td>3</td>\n",
       "      <td>26</td>\n",
       "      <td>162</td>\n",
       "      <td>268</td>\n",
       "      <td>2013-06-16</td>\n",
       "    </tr>\n",
       "    <tr>\n",
       "      <th>...</th>\n",
       "      <th>...</th>\n",
       "      <td>...</td>\n",
       "      <td>...</td>\n",
       "      <td>...</td>\n",
       "      <td>...</td>\n",
       "      <td>...</td>\n",
       "    </tr>\n",
       "    <tr>\n",
       "      <th rowspan=\"30\" valign=\"top\">2015</th>\n",
       "      <th>22</th>\n",
       "      <td>3</td>\n",
       "      <td>20</td>\n",
       "      <td>173</td>\n",
       "      <td>140</td>\n",
       "      <td>2015-06-07</td>\n",
       "    </tr>\n",
       "    <tr>\n",
       "      <th>23</th>\n",
       "      <td>4</td>\n",
       "      <td>33</td>\n",
       "      <td>244</td>\n",
       "      <td>156</td>\n",
       "      <td>2015-06-14</td>\n",
       "    </tr>\n",
       "    <tr>\n",
       "      <th>24</th>\n",
       "      <td>26</td>\n",
       "      <td>28</td>\n",
       "      <td>313</td>\n",
       "      <td>226</td>\n",
       "      <td>2015-06-21</td>\n",
       "    </tr>\n",
       "    <tr>\n",
       "      <th>25</th>\n",
       "      <td>26</td>\n",
       "      <td>40</td>\n",
       "      <td>516</td>\n",
       "      <td>184</td>\n",
       "      <td>2015-06-28</td>\n",
       "    </tr>\n",
       "    <tr>\n",
       "      <th>26</th>\n",
       "      <td>13</td>\n",
       "      <td>36</td>\n",
       "      <td>267</td>\n",
       "      <td>206</td>\n",
       "      <td>2015-07-05</td>\n",
       "    </tr>\n",
       "    <tr>\n",
       "      <th>27</th>\n",
       "      <td>11</td>\n",
       "      <td>34</td>\n",
       "      <td>354</td>\n",
       "      <td>144</td>\n",
       "      <td>2015-07-12</td>\n",
       "    </tr>\n",
       "    <tr>\n",
       "      <th>28</th>\n",
       "      <td>34</td>\n",
       "      <td>30</td>\n",
       "      <td>359</td>\n",
       "      <td>197</td>\n",
       "      <td>2015-07-19</td>\n",
       "    </tr>\n",
       "    <tr>\n",
       "      <th>29</th>\n",
       "      <td>28</td>\n",
       "      <td>37</td>\n",
       "      <td>478</td>\n",
       "      <td>298</td>\n",
       "      <td>2015-07-26</td>\n",
       "    </tr>\n",
       "    <tr>\n",
       "      <th>30</th>\n",
       "      <td>59</td>\n",
       "      <td>51</td>\n",
       "      <td>600</td>\n",
       "      <td>346</td>\n",
       "      <td>2015-08-02</td>\n",
       "    </tr>\n",
       "    <tr>\n",
       "      <th>31</th>\n",
       "      <td>54</td>\n",
       "      <td>44</td>\n",
       "      <td>799</td>\n",
       "      <td>201</td>\n",
       "      <td>2015-08-09</td>\n",
       "    </tr>\n",
       "    <tr>\n",
       "      <th>32</th>\n",
       "      <td>14</td>\n",
       "      <td>46</td>\n",
       "      <td>463</td>\n",
       "      <td>253</td>\n",
       "      <td>2015-08-16</td>\n",
       "    </tr>\n",
       "    <tr>\n",
       "      <th>33</th>\n",
       "      <td>107</td>\n",
       "      <td>50</td>\n",
       "      <td>776</td>\n",
       "      <td>621</td>\n",
       "      <td>2015-08-23</td>\n",
       "    </tr>\n",
       "    <tr>\n",
       "      <th>34</th>\n",
       "      <td>7</td>\n",
       "      <td>39</td>\n",
       "      <td>328</td>\n",
       "      <td>186</td>\n",
       "      <td>2015-08-30</td>\n",
       "    </tr>\n",
       "    <tr>\n",
       "      <th>35</th>\n",
       "      <td>6</td>\n",
       "      <td>34</td>\n",
       "      <td>200</td>\n",
       "      <td>168</td>\n",
       "      <td>2015-09-06</td>\n",
       "    </tr>\n",
       "    <tr>\n",
       "      <th>36</th>\n",
       "      <td>29</td>\n",
       "      <td>41</td>\n",
       "      <td>479</td>\n",
       "      <td>334</td>\n",
       "      <td>2015-09-13</td>\n",
       "    </tr>\n",
       "    <tr>\n",
       "      <th>37</th>\n",
       "      <td>26</td>\n",
       "      <td>56</td>\n",
       "      <td>518</td>\n",
       "      <td>329</td>\n",
       "      <td>2015-09-20</td>\n",
       "    </tr>\n",
       "    <tr>\n",
       "      <th>38</th>\n",
       "      <td>4</td>\n",
       "      <td>23</td>\n",
       "      <td>309</td>\n",
       "      <td>175</td>\n",
       "      <td>2015-09-27</td>\n",
       "    </tr>\n",
       "    <tr>\n",
       "      <th>39</th>\n",
       "      <td>37</td>\n",
       "      <td>47</td>\n",
       "      <td>648</td>\n",
       "      <td>212</td>\n",
       "      <td>2015-10-04</td>\n",
       "    </tr>\n",
       "    <tr>\n",
       "      <th>40</th>\n",
       "      <td>2</td>\n",
       "      <td>39</td>\n",
       "      <td>294</td>\n",
       "      <td>165</td>\n",
       "      <td>2015-10-11</td>\n",
       "    </tr>\n",
       "    <tr>\n",
       "      <th>41</th>\n",
       "      <td>30</td>\n",
       "      <td>40</td>\n",
       "      <td>419</td>\n",
       "      <td>131</td>\n",
       "      <td>2015-10-18</td>\n",
       "    </tr>\n",
       "    <tr>\n",
       "      <th>42</th>\n",
       "      <td>13</td>\n",
       "      <td>41</td>\n",
       "      <td>265</td>\n",
       "      <td>121</td>\n",
       "      <td>2015-10-25</td>\n",
       "    </tr>\n",
       "    <tr>\n",
       "      <th>43</th>\n",
       "      <td>23</td>\n",
       "      <td>29</td>\n",
       "      <td>383</td>\n",
       "      <td>101</td>\n",
       "      <td>2015-11-01</td>\n",
       "    </tr>\n",
       "    <tr>\n",
       "      <th>44</th>\n",
       "      <td>5</td>\n",
       "      <td>32</td>\n",
       "      <td>205</td>\n",
       "      <td>57</td>\n",
       "      <td>2015-11-08</td>\n",
       "    </tr>\n",
       "    <tr>\n",
       "      <th>45</th>\n",
       "      <td>8</td>\n",
       "      <td>38</td>\n",
       "      <td>398</td>\n",
       "      <td>214</td>\n",
       "      <td>2015-11-15</td>\n",
       "    </tr>\n",
       "    <tr>\n",
       "      <th>46</th>\n",
       "      <td>27</td>\n",
       "      <td>41</td>\n",
       "      <td>390</td>\n",
       "      <td>141</td>\n",
       "      <td>2015-11-22</td>\n",
       "    </tr>\n",
       "    <tr>\n",
       "      <th>47</th>\n",
       "      <td>24</td>\n",
       "      <td>45</td>\n",
       "      <td>451</td>\n",
       "      <td>178</td>\n",
       "      <td>2015-11-29</td>\n",
       "    </tr>\n",
       "    <tr>\n",
       "      <th>48</th>\n",
       "      <td>35</td>\n",
       "      <td>45</td>\n",
       "      <td>646</td>\n",
       "      <td>255</td>\n",
       "      <td>2015-12-06</td>\n",
       "    </tr>\n",
       "    <tr>\n",
       "      <th>49</th>\n",
       "      <td>117</td>\n",
       "      <td>43</td>\n",
       "      <td>878</td>\n",
       "      <td>143</td>\n",
       "      <td>2015-12-13</td>\n",
       "    </tr>\n",
       "    <tr>\n",
       "      <th>50</th>\n",
       "      <td>43</td>\n",
       "      <td>50</td>\n",
       "      <td>656</td>\n",
       "      <td>246</td>\n",
       "      <td>2015-12-20</td>\n",
       "    </tr>\n",
       "    <tr>\n",
       "      <th>51</th>\n",
       "      <td>46</td>\n",
       "      <td>53</td>\n",
       "      <td>611</td>\n",
       "      <td>174</td>\n",
       "      <td>2015-12-27</td>\n",
       "    </tr>\n",
       "  </tbody>\n",
       "</table>\n",
       "<p>162 rows × 5 columns</p>\n",
       "</div>"
      ],
      "text/plain": [
       "           sharesCount  postsCount  likesCount  commentsCount  date_week\n",
       "year week                                                               \n",
       "2012 1               1           1           4              0 2012-01-08\n",
       "     47              1           5          43             53 2012-11-25\n",
       "     48              0           6          19              2 2012-12-02\n",
       "     49              0           3           6              3 2012-12-09\n",
       "     50              3           3           5             16 2012-12-16\n",
       "     51              0           3           8              6 2012-12-23\n",
       "     52              0           2          11              5 2012-12-30\n",
       "2013 1               1          13          99            114 2013-01-13\n",
       "     2               7           3          11              4 2013-01-20\n",
       "     3               0           7           8             22 2013-01-27\n",
       "     4               0           4          28             45 2013-02-03\n",
       "     5               7           6          33             10 2013-02-10\n",
       "     6               7           7          36             28 2013-02-17\n",
       "     7               3           9          27            147 2013-02-24\n",
       "     8               1          11          34             52 2013-03-03\n",
       "     9              24          14          61            171 2013-03-10\n",
       "     10              2           5          28             33 2013-03-17\n",
       "     11              5          16          72            147 2013-03-24\n",
       "     12              1          15          67            114 2013-03-31\n",
       "     13              0           9          47            172 2013-04-07\n",
       "     14              3          17          75            156 2013-04-14\n",
       "     15              0           9          70            104 2013-04-21\n",
       "     16              3          13          76            155 2013-04-28\n",
       "     17              7          35         229            332 2013-05-05\n",
       "     18             30          24         113            264 2013-05-12\n",
       "     19              4          20          56            186 2013-05-19\n",
       "     20             10          30         193            183 2013-05-26\n",
       "     21             12          51         397            380 2013-06-02\n",
       "     22             19          36         209            267 2013-06-09\n",
       "     23              3          26         162            268 2013-06-16\n",
       "...                ...         ...         ...            ...        ...\n",
       "2015 22              3          20         173            140 2015-06-07\n",
       "     23              4          33         244            156 2015-06-14\n",
       "     24             26          28         313            226 2015-06-21\n",
       "     25             26          40         516            184 2015-06-28\n",
       "     26             13          36         267            206 2015-07-05\n",
       "     27             11          34         354            144 2015-07-12\n",
       "     28             34          30         359            197 2015-07-19\n",
       "     29             28          37         478            298 2015-07-26\n",
       "     30             59          51         600            346 2015-08-02\n",
       "     31             54          44         799            201 2015-08-09\n",
       "     32             14          46         463            253 2015-08-16\n",
       "     33            107          50         776            621 2015-08-23\n",
       "     34              7          39         328            186 2015-08-30\n",
       "     35              6          34         200            168 2015-09-06\n",
       "     36             29          41         479            334 2015-09-13\n",
       "     37             26          56         518            329 2015-09-20\n",
       "     38              4          23         309            175 2015-09-27\n",
       "     39             37          47         648            212 2015-10-04\n",
       "     40              2          39         294            165 2015-10-11\n",
       "     41             30          40         419            131 2015-10-18\n",
       "     42             13          41         265            121 2015-10-25\n",
       "     43             23          29         383            101 2015-11-01\n",
       "     44              5          32         205             57 2015-11-08\n",
       "     45              8          38         398            214 2015-11-15\n",
       "     46             27          41         390            141 2015-11-22\n",
       "     47             24          45         451            178 2015-11-29\n",
       "     48             35          45         646            255 2015-12-06\n",
       "     49            117          43         878            143 2015-12-13\n",
       "     50             43          50         656            246 2015-12-20\n",
       "     51             46          53         611            174 2015-12-27\n",
       "\n",
       "[162 rows x 5 columns]"
      ]
     },
     "execution_count": 65,
     "metadata": {},
     "output_type": "execute_result"
    }
   ],
   "source": [
    "postsW = posts.groupby(['year','week']).agg({'likesCount' : np.sum,\n",
    "                                              'commentsCount' : np.sum,\n",
    "                                              'sharesCount' : np.sum,\n",
    "                                              'id': 'count'})\n",
    "postsW.rename(columns={'id':'postsCount'},inplace=True)\n",
    "postsW['date_week'] = [datetime.datetime.strptime(str(a[0])+'-W'+str(a[1]) + '-0', \"%Y-W%W-%w\") for a in list(postsW.index)]\n",
    "postsW.sort_index()"
   ]
  }
 ],
 "metadata": {
  "kernelspec": {
   "display_name": "Python 3",
   "language": "python",
   "name": "python3"
  },
  "language_info": {
   "codemirror_mode": {
    "name": "ipython",
    "version": 3
   },
   "file_extension": ".py",
   "mimetype": "text/x-python",
   "name": "python",
   "nbconvert_exporter": "python",
   "pygments_lexer": "ipython3",
   "version": "3.4.3"
  }
 },
 "nbformat": 4,
 "nbformat_minor": 0
}
