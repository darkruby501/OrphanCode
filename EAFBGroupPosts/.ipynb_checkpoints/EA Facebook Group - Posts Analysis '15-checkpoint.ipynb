{
 "cells": [
  {
   "cell_type": "markdown",
   "metadata": {},
   "source": [
    "# Analysis of Effective Altruism Facebook Group Posts\n",
    "## 2012 - 2015\n",
    "\n",
    "Data taken from https://docs.google.com/spreadsheets/d/1zRc2AvZ_nWEyXdOPz9XzjuXszMa92C9WUSVOul-NJyo/edit#gid=1562892504\n",
    "\n",
    "\n",
    "\n",
    "### Growth\n",
    "\n",
    "NB: \"Posts\" in the spreadsheet includes both \"status\" posts and \"link\" posts, I refer to them accordingly as \"status-posts\" and \"link-posts.\" Status-posts are where someone writes some text and shares vs sharing a link to the group. There were also an insignificant number of \"other\" types including photo, video, and music.\n",
    "\n",
    "* The total number of status-posts has remained constant for the last three years (Figure 1). \n",
    "* The number of link-containing posts has increased year-on-year by ~25% (Figure 1).\n",
    "* Because of increase in link-posts, the total number of posts (of all types) is increasing annually.\n",
    "* The group was started in late 2012 but had 23 posts for the year, compared with 1300+ for subsequent years (Table 1).\n",
    "\n",
    "\n",
    "### Comments\n",
    "* The absolute number of comments has been decreasing annually, despite increased number of overall posts (Figure 2). \n",
    "    - The number of comments per status-post has dropped from an average of 11.3 in 2013, to 7.8 in 2015 (Table 2)\n",
    " \n",
    " \n",
    "### Other Comparison of Status- and Link-Posts\n",
    "* Status-posts receive an average of 9.7 comments per post compared to 5.4 comments per post for link-posts (Table 3).\n",
    "* Link-posts receive slightly more likes on average than status-posts, 9.3 vs. 7.2 (Table 3).\n",
    "* Link-posts receive more than 30 times the number of shares as status-posts on average. This explains the large increase in number of shares in 2015.\n",
    "\n",
    "\n",
    "### Monthly Variation\n",
    "* Compared with the preceding 12-months, there was a dip in activity from mid-2014 to early 2015 (Figure 3). I don't why. Things started going back up sometime between February and June. I didn't get a chance to look into the changes on that finer time-scale. Does anybody know what's changed with the group from last year to this year? \n",
    "\n",
    "\n",
    "### Contributors\n",
    "* The number of unique contributors has increased linearly since 2013 (Figure 4).\n",
    "* Half or more of the top contributors list has stayed the same since 2013 (Tables 4-7).\n",
    "* See below for Leaderboards for Top Contributors for 2013,2014,2015 and All Time.\n",
    "\n",
    "\n",
    "\n",
    "\n",
    "## Conclusion\n",
    "Overall group activity has been increasing since 2012, however the composition and nature of the activity has changed. While the number of status-posts has stayed constant since 2013, their proportion of total posts has dropped. In 2013, the number of statuses posted and links posted were roughly equal, whereas in 2015, 50% more links were posted than statuses. Additionally, the number of comments per status-post has been dropping since 2013.\n",
    "\n",
    "There has been an annual increase in \n",
    "\n",
    "Questions I didn't attempt to answer.\n",
    "Are the additional posters providing value? Do their posts get as many likes/shares/comments, or are they opportunistically posting on a large group?"
   ]
  },
  {
   "cell_type": "code",
   "execution_count": null,
   "metadata": {
    "collapsed": false
   },
   "outputs": [],
   "source": [
    "# Imports\n",
    "import pandas as pd\n",
    "from pandas import Series,DataFrame\n",
    "import numpy as np\n",
    "import matplotlib.pyplot as plt\n",
    "import seaborn as sns\n",
    "import datetime\n",
    "%matplotlib inline"
   ]
  },
  {
   "cell_type": "code",
   "execution_count": null,
   "metadata": {
    "collapsed": false
   },
   "outputs": [],
   "source": [
    "posts = pd.read_csv('Effective Altruism facebook group posts data - posts (1).csv')\n",
    "posts['createdTime'] = pd.to_datetime(posts['createdTime'])\n",
    "posts['year'] = posts['createdTime'].apply(lambda x: x.year)\n",
    "posts['week'] = posts['createdTime'].apply(lambda x: x.week)\n",
    "posts['month'] = posts['createdTime'].apply(lambda x: x.month)\n",
    "posts['quarter'] = posts['createdTime'].apply(lambda x: x.quarter)"
   ]
  },
  {
   "cell_type": "markdown",
   "metadata": {},
   "source": [
    "### Figure 1: Number of Posts by Type vs. Year"
   ]
  },
  {
   "cell_type": "code",
   "execution_count": null,
   "metadata": {
    "collapsed": false,
    "scrolled": true
   },
   "outputs": [],
   "source": [
    "postsTypes = posts.groupby(['year','type']).count()['id'].unstack()\n",
    "postsTypes.fillna(0,inplace=True)\n",
    "\n",
    "otherCols = set(list(postsTypes.columns))\n",
    "mainCols = set(['link','status'])\n",
    "otherCols = otherCols-mainCols\n",
    "otherCols = list(otherCols)\n",
    "\n",
    "postsTypes['other'] = postsTypes[otherCols].sum(axis=1)\n",
    "postsTypes.drop(otherCols,axis=1,inplace=True)\n",
    "\n",
    "fig = postsTypes.plot(kind='bar',figsize=(8,4))\n",
    "fig.set_title(\"Post Counts by Type vs Year\")"
   ]
  },
  {
   "cell_type": "markdown",
   "metadata": {},
   "source": [
    "### Table 1: Number of Posts by Year\n",
    "* The group was started in late 2012 but had 23 posts for the year, compared with 1300+ for subsequent years (Table 1)."
   ]
  },
  {
   "cell_type": "code",
   "execution_count": null,
   "metadata": {
    "collapsed": false
   },
   "outputs": [],
   "source": [
    "postsY = posts.groupby(['year']).agg({'likesCount' : np.sum,'commentsCount' : np.sum,'sharesCount' : np.sum,'id': 'count'})\n",
    "postsY.rename(columns={'id':'postsCount'},inplace=True)\n",
    "postsY.sort_index()"
   ]
  },
  {
   "cell_type": "markdown",
   "metadata": {},
   "source": [
    "### Figure 2: Activity Counts vs Year\n",
    "* Because of increase in link-posts, the total number of posts (of all types) is increasing annually.\n",
    "* The absolute number of comments has been decreasing annually, despite increased number of overall posts (Figure 2). \n",
    "\n"
   ]
  },
  {
   "cell_type": "code",
   "execution_count": null,
   "metadata": {
    "collapsed": false,
    "scrolled": false
   },
   "outputs": [],
   "source": [
    "#postsY.reset_index(inplace=True)\n",
    "fig, Ax = plt.subplots(2,2,figsize=(10,12))\n",
    "\n",
    "sns.barplot(y='postsCount',x='year',data=postsY,ax=Ax[0,0])\n",
    "sns.barplot(y='commentsCount',x='year',data=postsY,ax=Ax[0,1])\n",
    "sns.barplot(y='likesCount',x='year',data=postsY,ax=Ax[1,0])\n",
    "sns.barplot(y='sharesCount',x='year',data=postsY,ax=Ax[1,1])\n",
    "\n",
    "Ax[0,0].set_title('Posts'); Ax[0,0].set_xlabel(''); Ax[0,0].set_ylabel('')\n",
    "Ax[0,1].set_title('Comments');Ax[0,1].set_xlabel('');Ax[0,1].set_ylabel('')\n",
    "Ax[1,0].set_title('Likes');Ax[1,0].set_xlabel('');Ax[1,0].set_ylabel('')\n",
    "Ax[1,1].set_title('Shares');Ax[1,1].set_xlabel('');Ax[1,1].set_ylabel('')\n",
    "#Dammit, what's the command to turn off axis labels?"
   ]
  },
  {
   "cell_type": "markdown",
   "metadata": {},
   "source": [
    "### Table 2: Average Likes/Comments/Shares for Status Posts\n",
    "    - The number of comments per status-post has dropped from an average of 11.3 in 2013, to 7.8 in 2015 (Table 2)\n"
   ]
  },
  {
   "cell_type": "code",
   "execution_count": null,
   "metadata": {
    "collapsed": false
   },
   "outputs": [],
   "source": [
    "postsTypes = posts[(posts['type']=='status')].groupby(['year','type']).mean()\n",
    "postsTypes[['likesCount','commentsCount','sharesCount']].round(2)"
   ]
  },
  {
   "cell_type": "markdown",
   "metadata": {},
   "source": [
    "### Table 3: Likes/Comments/Shares for Status vs Links\n",
    "* Status-posts receive an average of 9.7 comments per post compared to 5.4 comments per post for link-posts (Table 3).\n",
    "* Link-posts receive slightly more likes on average than status-posts, 9.3 vs. 7.2 (Table 3).\n",
    "* Link-posts receive more than 30 times the number of shares as status-posts on average. This explains the large increase in number of shares in 2015."
   ]
  },
  {
   "cell_type": "code",
   "execution_count": null,
   "metadata": {
    "collapsed": false
   },
   "outputs": [],
   "source": [
    "postsTypes = posts[(posts['type']=='link')|(posts['type']=='status')].groupby(['type']).mean()\n",
    "postsTypes[['likesCount','commentsCount','sharesCount']].round(2)\n"
   ]
  },
  {
   "cell_type": "markdown",
   "metadata": {
    "collapsed": true
   },
   "source": [
    "### Figure 3: Monthly Variation\n",
    "* Compared with the preceding 12-months, there was a dip in activity from mid-2014 to early 2015 (Figure 3). I don't why, and it's not seasonality. Things started going back up sometime between February and June. I didn't get a chance to look into the changes on that finer time-scale. Does anybody know what's changed with the group from last year to this year? "
   ]
  },
  {
   "cell_type": "code",
   "execution_count": null,
   "metadata": {
    "collapsed": false,
    "scrolled": false
   },
   "outputs": [],
   "source": [
    "postsW = posts.groupby(['year','month']).agg({'likesCount' : np.sum,'commentsCount' : np.sum,'sharesCount' : np.sum,'id': 'count'})\n",
    "postsW.rename(columns={'id':'postsCount'},inplace=True)\n",
    "postsW['date_month'] = [datetime.datetime(a[0],a[1],15,0,0) for a in list(postsW.index)]\n",
    "\n",
    "months = MonthLocator(interval=2)\n",
    "monthsFmt = DateFormatter(\"%b-%y\")\n",
    "fig, (ax1) = plt.subplots(1,1,figsize=(10,5),sharex=False)\n",
    "ax1.plot_date(postsW['date_month'],postsW['postsCount'],'-o')\n",
    "ax1.xaxis.set_major_locator(months)\n",
    "ax1.xaxis.set_major_formatter(monthsFmt)\n",
    "\n",
    "fig.autofmt_xdate()\n",
    "ax1.autoscale_view()\n",
    "ax1.set_title('Posts Per Month')\n",
    "\n",
    "#Yeah, not the best graph."
   ]
  },
  {
   "cell_type": "markdown",
   "metadata": {},
   "source": [
    "### Figure 4: Unique Contributors\n",
    "* The number of unique contributors has increased linearly since 2013 (Figure 4)."
   ]
  },
  {
   "cell_type": "code",
   "execution_count": null,
   "metadata": {
    "collapsed": false
   },
   "outputs": [],
   "source": [
    "postersYear = posts.groupby(['year','authorName']).count()['id'].reset_index(level=1)\n",
    "postersYear = postersYear.reset_index().groupby('year').count()\n",
    "postersYear.reset_index(inplace=True)\n",
    "ax = sns.barplot(x='year',y='id',data=postersYear)\n",
    "#postersYear.reset_index().plot(x='year',y='id')\n",
    "ax.set_ylabel('Unique Posters')\n",
    "ax.set_title('Number of Unique Posters by Year')"
   ]
  },
  {
   "cell_type": "code",
   "execution_count": null,
   "metadata": {
    "collapsed": true
   },
   "outputs": [],
   "source": [
    "def TopContsFunc(posts,year=None):\n",
    "    \n",
    "    if(year):\n",
    "        posts = posts[posts['year']==year]\n",
    "\n",
    "    TopConts = posts.groupby('authorName').agg({'id': 'count',\n",
    "                                            'likesCount' : np.sum,\n",
    "                                              'commentsCount' : np.sum,\n",
    "                                              'sharesCount' : np.sum\n",
    "                                              }).sort_values(by='id',ascending=False)\n",
    "\n",
    "    TopConts = TopConts[['id','likesCount','commentsCount','sharesCount']]\n",
    "    TopConts.rename(columns={'id':'postsCount'},inplace=True)\n",
    "    TopConts['LikesPerPost'] = TopConts['likesCount']/TopConts['postsCount']\n",
    "    TopConts['CommentsPerPost'] = TopConts['commentsCount']/TopConts['postsCount']\n",
    "    TopConts['SharesPerPost'] = TopConts['sharesCount']/TopConts['postsCount']\n",
    "    TopConts.reset_index(inplace=True)\n",
    "    return TopConts\n"
   ]
  },
  {
   "cell_type": "markdown",
   "metadata": {},
   "source": [
    "## CONTRIBUTORS TABLES\n",
    "* 1: All Time\n",
    "* 2: 2015\n",
    "* 3: 2014\n",
    "* 4: 2013"
   ]
  },
  {
   "cell_type": "markdown",
   "metadata": {},
   "source": [
    "### Table 4: TOP 20 CONTRIBUTORS (posts) ALL TIME"
   ]
  },
  {
   "cell_type": "code",
   "execution_count": null,
   "metadata": {
    "collapsed": false,
    "scrolled": false
   },
   "outputs": [],
   "source": [
    "TopContsFunc(posts).head(20)"
   ]
  },
  {
   "cell_type": "markdown",
   "metadata": {},
   "source": [
    "### TOP 15 CONTRIBUTORS, 2015"
   ]
  },
  {
   "cell_type": "code",
   "execution_count": null,
   "metadata": {
    "collapsed": false
   },
   "outputs": [],
   "source": [
    "TopContsFunc(posts,2015).head(15)"
   ]
  },
  {
   "cell_type": "markdown",
   "metadata": {},
   "source": [
    "All time contributor leader Rob Wiblin actually made most of his posts (135/187) this year."
   ]
  },
  {
   "cell_type": "markdown",
   "metadata": {},
   "source": [
    "### TOP 15 CONTRIBUTORS, 2014"
   ]
  },
  {
   "cell_type": "code",
   "execution_count": null,
   "metadata": {
    "collapsed": false
   },
   "outputs": [],
   "source": [
    "TopContsFunc(posts,2014).head(15)"
   ]
  },
  {
   "cell_type": "markdown",
   "metadata": {},
   "source": [
    "### TOP 15 CONTRIBUTORS, 2013"
   ]
  },
  {
   "cell_type": "code",
   "execution_count": null,
   "metadata": {
    "collapsed": false,
    "scrolled": false
   },
   "outputs": [],
   "source": [
    "TopContsFunc(posts,2013).head(15)"
   ]
  }
 ],
 "metadata": {
  "kernelspec": {
   "display_name": "Python 3",
   "language": "python",
   "name": "python3"
  },
  "language_info": {
   "codemirror_mode": {
    "name": "ipython",
    "version": 3
   },
   "file_extension": ".py",
   "mimetype": "text/x-python",
   "name": "python",
   "nbconvert_exporter": "python",
   "pygments_lexer": "ipython3",
   "version": "3.4.3"
  }
 },
 "nbformat": 4,
 "nbformat_minor": 0
}
